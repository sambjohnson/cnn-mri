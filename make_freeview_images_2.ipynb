{
 "cells": [
  {
   "cell_type": "markdown",
   "id": "628b760a",
   "metadata": {},
   "source": [
    "# Make freeview images\n",
    "\n",
    "- make freeview images, adding angle jitter  \n",
    "- several jitters per subject\n",
    "- currently settings: left hemisphere, ventral view, inflated (fsaverage) base, curv or thickness overlay\n",
    "- expects a folder in working directory called ./data/thickness or ./data/curv"
   ]
  },
  {
   "cell_type": "code",
   "execution_count": 1,
   "id": "f90efe41",
   "metadata": {},
   "outputs": [],
   "source": [
    "import numpy as np\n",
    "import os\n",
    "import sys"
   ]
  },
  {
   "cell_type": "code",
   "execution_count": 2,
   "id": "2753b7d1",
   "metadata": {},
   "outputs": [],
   "source": [
    "# specify location of data\n",
    "# expected format is .mgh, in a subdirectory labeled thickness of curv\n",
    "data_dir = os.getcwd()"
   ]
  },
  {
   "cell_type": "code",
   "execution_count": 3,
   "id": "ff6474bb",
   "metadata": {},
   "outputs": [
    {
     "data": {
      "text/plain": [
       "'/Users/samjohns/fsa-data'"
      ]
     },
     "execution_count": 3,
     "metadata": {},
     "output_type": "execute_result"
    }
   ],
   "source": [
    "data_dir"
   ]
  },
  {
   "cell_type": "code",
   "execution_count": 4,
   "id": "c1eae605",
   "metadata": {},
   "outputs": [],
   "source": [
    "os.chdir(data_dir)"
   ]
  },
  {
   "cell_type": "code",
   "execution_count": 5,
   "id": "fc3883a4",
   "metadata": {},
   "outputs": [],
   "source": [
    "# directory structure: data directory contains subdirs thickness and curv\n",
    "\n",
    "thickness_subdir = '/thickness'\n",
    "thickness_dir = data_dir + thickness_subdir\n",
    "\n",
    "curv_subdir = '/curv'\n",
    "curv_dir = data_dir + curv_subdir"
   ]
  },
  {
   "cell_type": "code",
   "execution_count": 6,
   "id": "d20cb8ad",
   "metadata": {},
   "outputs": [],
   "source": [
    "image_subdir = '/images/images-curv-sphere'\n",
    "image_dir = data_dir + image_subdir\n",
    "\n",
    "if not os.path.exists(image_dir):\n",
    "    os.mkdir(image_dir)"
   ]
  },
  {
   "cell_type": "code",
   "execution_count": 7,
   "id": "f9aab826",
   "metadata": {},
   "outputs": [],
   "source": [
    "# default values\n",
    "SCALE=10\n",
    "VIEWS=10\n",
    "CENTER=np.array([-65, 0, 0])\n",
    "\n",
    "def generate_angles(nviews=VIEWS, scale=SCALE, center=CENTER):\n",
    "    center = np.array(center) # cast to np.array for broadcasting addition\n",
    "    angle_jitters = scale * (np.array(np.split(np.random.rand(3 * nviews), nviews)) - 0.5)\n",
    "    return center + angle_jitters"
   ]
  },
  {
   "cell_type": "code",
   "execution_count": 8,
   "id": "2ca67724",
   "metadata": {},
   "outputs": [],
   "source": [
    "def make_command_strings(input_file_name, pic_base_name, angles, base='sphere', feature='curv'):\n",
    "    # different settings for curv and sphere base\n",
    "    if base=='inflated':\n",
    "        zoom=1.8\n",
    "        center_ras='-45 0 0'\n",
    "    elif base=='sphere':\n",
    "        zoom=1.2\n",
    "        center_ras='0 0 0'\n",
    "    command_strings = []\n",
    "    \n",
    "    if feature=='curv':\n",
    "        subdir=curv_subdir\n",
    "        overlay_settings='overlay_custom=./curv/custom_grayscale'\n",
    "    elif feature=='thickness':\n",
    "        subdir=thickness_subdir\n",
    "        overlay_settings='overlay_threshold=0,4.5'\n",
    "    for i, a in enumerate(angles):\n",
    "        command_strings.append(f'freeview -f .{subdir}/lh.sphere:curvature_method=\"binary\":overlay=.{curv_subdir}/{input_file_name}:{overlay_settings} -cam dolly {zoom} elevation {a[0]:.2f} azimuth {a[1]:.2f} roll {a[2]:.2f} -ras {center_ras} -cc -ss .{image_subdir}/{pic_base_name}-{a[0]:.2f}-{a[1]:.2f}-{a[2]:.2f}.png')\n",
    "    return command_strings"
   ]
  },
  {
   "cell_type": "code",
   "execution_count": 9,
   "id": "12011fcb",
   "metadata": {},
   "outputs": [],
   "source": [
    "# process input filenames; filter out other directory entries; strip .mgh extension\n",
    "input_files = [f[:-4] for f in os.listdir(curv_dir) if 'sub-' in f and '.mgh' in f]"
   ]
  },
  {
   "cell_type": "code",
   "execution_count": 10,
   "id": "b4dbb2cc",
   "metadata": {},
   "outputs": [
    {
     "data": {
      "text/plain": [
       "(['sub-NDARGT022BEW.fsa.lh.curv',\n",
       "  'sub-NDARTU768MY1.fsa.lh.curv',\n",
       "  'sub-NDARDN229AKK.fsa.lh.curv',\n",
       "  'sub-NDARDD073JKZ.fsa.lh.curv',\n",
       "  'sub-NDARJU903AZH.fsa.lh.curv'],\n",
       " 2388)"
      ]
     },
     "execution_count": 10,
     "metadata": {},
     "output_type": "execute_result"
    }
   ],
   "source": [
    "input_files[:5], len(input_files)"
   ]
  },
  {
   "cell_type": "code",
   "execution_count": 11,
   "id": "1d37e731",
   "metadata": {},
   "outputs": [],
   "source": [
    "def make_subject_images(input_file, base='sphere'):\n",
    "    angles = generate_angles()\n",
    "    command_strings = make_command_strings(input_file+'.mgh', input_file, angles, base=base)\n",
    "    for command_string in command_strings:\n",
    "        os.system(command_string)\n",
    "        \n",
    "        ## debugging ##\n",
    "        #print(command_string)"
   ]
  },
  {
   "cell_type": "code",
   "execution_count": 12,
   "id": "036f884d",
   "metadata": {},
   "outputs": [
    {
     "data": {
      "text/plain": [
       "'/Users/samjohns/fsa-data'"
      ]
     },
     "execution_count": 12,
     "metadata": {},
     "output_type": "execute_result"
    }
   ],
   "source": [
    "os.getcwd()"
   ]
  },
  {
   "cell_type": "code",
   "execution_count": null,
   "id": "864e8d19",
   "metadata": {},
   "outputs": [],
   "source": [
    "# this cell makes the images\n",
    "# it can take a long time (~ 2 - 10s per image)\n",
    "\n",
    "# resume from last time\n",
    "for input_file in input_files[:2231]:\n",
    "    make_subject_images(input_file, base='sphere')"
   ]
  },
  {
   "cell_type": "code",
   "execution_count": null,
   "id": "054efe10",
   "metadata": {},
   "outputs": [],
   "source": [
    "31 roll 0.71 -ras -45 0 0 -cc -ss test.png"
   ]
  },
  {
   "cell_type": "code",
   "execution_count": null,
   "id": "ea4255d6",
   "metadata": {},
   "outputs": [],
   "source": []
  },
  {
   "cell_type": "code",
   "execution_count": null,
   "id": "bbb22c57",
   "metadata": {},
   "outputs": [],
   "source": [
    "! freeview -f ./lh.inflated:curvature_method='binary':overlay=./lh.thickness -cam dolly 1.5 elevation 65 azimuth 0 roll 0 -ss test6500.png"
   ]
  }
 ],
 "metadata": {
  "kernelspec": {
   "display_name": "Python [conda env:root] *",
   "language": "python",
   "name": "conda-root-py"
  },
  "language_info": {
   "codemirror_mode": {
    "name": "ipython",
    "version": 3
   },
   "file_extension": ".py",
   "mimetype": "text/x-python",
   "name": "python",
   "nbconvert_exporter": "python",
   "pygments_lexer": "ipython3",
   "version": "3.8.8"
  }
 },
 "nbformat": 4,
 "nbformat_minor": 5
}

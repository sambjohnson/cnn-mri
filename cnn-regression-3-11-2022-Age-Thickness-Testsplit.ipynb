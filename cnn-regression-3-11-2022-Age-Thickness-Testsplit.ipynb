{
 "cells": [
  {
   "cell_type": "markdown",
   "id": "a6a9280b",
   "metadata": {
    "collapsed": true
   },
   "source": [
    "# CNN: Regression experiments\n",
    "\n",
    "script: jupyter-gpu.sbatch  \n",
    "partition: gpu  \n",
    "conda env: torch-ni-ny  \n",
    "data: /scratch/groups/jyeatman/samjohns-projects/data \n",
    "  \n",
    "notable changes:\n",
    "- add train-test split\n",
    "- (network) add extra final fully connected layer\n",
    "- (network) change fc nonlinearity from relu to elu"
   ]
  },
  {
   "cell_type": "markdown",
   "id": "021bd469",
   "metadata": {},
   "source": [
    "## Step 1: Prepare Data"
   ]
  },
  {
   "cell_type": "code",
   "execution_count": 1,
   "id": "508be182",
   "metadata": {},
   "outputs": [],
   "source": [
    "import torch\n",
    "from torch.utils.data import Dataset, DataLoader\n",
    "\n",
    "import torch.nn as nn\n",
    "import torch.nn.functional as F\n",
    "import torch.optim as optim\n",
    "\n",
    "import torchvision\n",
    "import torchvision.transforms as transforms\n",
    "\n",
    "# these are required for defining the regession ImageFolder\n",
    "from typing import Dict, Any\n",
    "from torchvision import datasets\n",
    "\n",
    "import pandas as pd\n",
    "import numpy as np"
   ]
  },
  {
   "cell_type": "code",
   "execution_count": 2,
   "id": "a1584717",
   "metadata": {},
   "outputs": [],
   "source": [
    "import os, sys, pickle\n",
    "\n",
    "import struct\n",
    "from array import array\n",
    "from os import path\n",
    "\n",
    "import png\n",
    "from PIL import Image\n",
    "from PIL import ImageOps"
   ]
  },
  {
   "cell_type": "code",
   "execution_count": 3,
   "id": "20b1dc82",
   "metadata": {},
   "outputs": [],
   "source": [
    "# user-defined helper functions for visualization and training\n",
    "import user"
   ]
  },
  {
   "cell_type": "code",
   "execution_count": 4,
   "id": "e2d48d50",
   "metadata": {},
   "outputs": [],
   "source": [
    "from user.data import ToFloat, ToRGB, CustomImageDataset"
   ]
  },
  {
   "cell_type": "code",
   "execution_count": 5,
   "id": "684d95a1",
   "metadata": {},
   "outputs": [],
   "source": [
    "proj_dir = '/scratch/groups/jyeatman/samjohns-projects'\n",
    "# image_subdir = '/data/fsa-data/images/images-thickness-sphere-processed'\n",
    "image_subdir = '/data/fsa-data/images/nojitter-curv-sphere-processed'\n",
    "image_dir = proj_dir + image_subdir\n",
    "os.chdir(proj_dir)"
   ]
  },
  {
   "cell_type": "code",
   "execution_count": 6,
   "id": "489ae0f1",
   "metadata": {},
   "outputs": [
    {
     "data": {
      "text/plain": [
       "['agef.pkl',\n",
       " 'wiat_reading.csv',\n",
       " 'nonblank_inds.pkl',\n",
       " 'hbn_ages_blanks.csv',\n",
       " 'readf.pkl']"
      ]
     },
     "execution_count": 6,
     "metadata": {},
     "output_type": "execute_result"
    }
   ],
   "source": [
    "# dataset specific directories\n",
    "data_dir = '/scratch/groups/jyeatman/samjohns-projects/data'\n",
    "pheno_dir = '/scratch/groups/jyeatman/samjohns-projects/data/hbn-reading-age-data'\n",
    "label_dir = data_dir + '/labels'\n",
    "os.listdir(pheno_dir)"
   ]
  },
  {
   "cell_type": "markdown",
   "id": "e280a8af",
   "metadata": {},
   "source": [
    "# This section formats the dataset\n",
    "- It is unnecessary to execute unless preparing a new dataset\n",
    "- (In which case, new image directories, pheno files, and label output files should be set)"
   ]
  },
  {
   "cell_type": "code",
   "execution_count": 7,
   "id": "d51293cc",
   "metadata": {},
   "outputs": [],
   "source": [
    "# first read in filenames and create a filename dataframe\n",
    "\n",
    "image_filenames = os.listdir(image_dir)"
   ]
  },
  {
   "cell_type": "code",
   "execution_count": 8,
   "id": "c2dea42e",
   "metadata": {},
   "outputs": [],
   "source": [
    "# strip EID from image filenames; first 16 characters of filename string\n",
    "EID_length = 16\n",
    "sub_filenames = [name[:EID_length] for name in image_filenames]\n",
    "assert len(sub_filenames) == len(image_filenames)"
   ]
  },
  {
   "cell_type": "code",
   "execution_count": 9,
   "id": "c89f1999",
   "metadata": {},
   "outputs": [],
   "source": [
    "d = {'EID': sub_filenames, 'Filename': image_filenames}"
   ]
  },
  {
   "cell_type": "code",
   "execution_count": 10,
   "id": "1a07ed55",
   "metadata": {},
   "outputs": [],
   "source": [
    "filename_df = pd.DataFrame(d)"
   ]
  },
  {
   "cell_type": "code",
   "execution_count": 11,
   "id": "c7df5557",
   "metadata": {},
   "outputs": [
    {
     "data": {
      "text/html": [
       "<div>\n",
       "<style scoped>\n",
       "    .dataframe tbody tr th:only-of-type {\n",
       "        vertical-align: middle;\n",
       "    }\n",
       "\n",
       "    .dataframe tbody tr th {\n",
       "        vertical-align: top;\n",
       "    }\n",
       "\n",
       "    .dataframe thead th {\n",
       "        text-align: right;\n",
       "    }\n",
       "</style>\n",
       "<table border=\"1\" class=\"dataframe\">\n",
       "  <thead>\n",
       "    <tr style=\"text-align: right;\">\n",
       "      <th></th>\n",
       "      <th>EID</th>\n",
       "      <th>Filename</th>\n",
       "    </tr>\n",
       "  </thead>\n",
       "  <tbody>\n",
       "    <tr>\n",
       "      <th>0</th>\n",
       "      <td>sub-NDARGY622NG6</td>\n",
       "      <td>sub-NDARGY622NG6.fsa.lh.curv--65.00-0.00-0.00.png</td>\n",
       "    </tr>\n",
       "    <tr>\n",
       "      <th>1</th>\n",
       "      <td>sub-NDARLE282UHJ</td>\n",
       "      <td>sub-NDARLE282UHJ.fsa.lh.curv--65.00-0.00-0.00.png</td>\n",
       "    </tr>\n",
       "    <tr>\n",
       "      <th>2</th>\n",
       "      <td>sub-NDARDD854GF8</td>\n",
       "      <td>sub-NDARDD854GF8.fsa.lh.curv--65.00-0.00-0.00.png</td>\n",
       "    </tr>\n",
       "    <tr>\n",
       "      <th>3</th>\n",
       "      <td>sub-NDARRC348AFG</td>\n",
       "      <td>sub-NDARRC348AFG.fsa.lh.curv--65.00-0.00-0.00.png</td>\n",
       "    </tr>\n",
       "    <tr>\n",
       "      <th>4</th>\n",
       "      <td>sub-NDARAT709MMX</td>\n",
       "      <td>sub-NDARAT709MMX.fsa.lh.curv--65.00-0.00-0.00.png</td>\n",
       "    </tr>\n",
       "  </tbody>\n",
       "</table>\n",
       "</div>"
      ],
      "text/plain": [
       "                EID                                           Filename\n",
       "0  sub-NDARGY622NG6  sub-NDARGY622NG6.fsa.lh.curv--65.00-0.00-0.00.png\n",
       "1  sub-NDARLE282UHJ  sub-NDARLE282UHJ.fsa.lh.curv--65.00-0.00-0.00.png\n",
       "2  sub-NDARDD854GF8  sub-NDARDD854GF8.fsa.lh.curv--65.00-0.00-0.00.png\n",
       "3  sub-NDARRC348AFG  sub-NDARRC348AFG.fsa.lh.curv--65.00-0.00-0.00.png\n",
       "4  sub-NDARAT709MMX  sub-NDARAT709MMX.fsa.lh.curv--65.00-0.00-0.00.png"
      ]
     },
     "execution_count": 11,
     "metadata": {},
     "output_type": "execute_result"
    }
   ],
   "source": [
    "filename_df.head()"
   ]
  },
  {
   "cell_type": "code",
   "execution_count": 17,
   "id": "5ac2f68c",
   "metadata": {},
   "outputs": [],
   "source": [
    "read_df = pd.read_csv(pheno_dir+'/wiat_reading.csv', header=None)"
   ]
  },
  {
   "cell_type": "code",
   "execution_count": 18,
   "id": "dc119cf3",
   "metadata": {},
   "outputs": [
    {
     "data": {
      "text/html": [
       "<div>\n",
       "<style scoped>\n",
       "    .dataframe tbody tr th:only-of-type {\n",
       "        vertical-align: middle;\n",
       "    }\n",
       "\n",
       "    .dataframe tbody tr th {\n",
       "        vertical-align: top;\n",
       "    }\n",
       "\n",
       "    .dataframe thead th {\n",
       "        text-align: right;\n",
       "    }\n",
       "</style>\n",
       "<table border=\"1\" class=\"dataframe\">\n",
       "  <thead>\n",
       "    <tr style=\"text-align: right;\">\n",
       "      <th></th>\n",
       "      <th>EID</th>\n",
       "      <th>Read</th>\n",
       "    </tr>\n",
       "  </thead>\n",
       "  <tbody>\n",
       "    <tr>\n",
       "      <th>0</th>\n",
       "      <td>sub-NDARAA075AMK</td>\n",
       "      <td>146.0</td>\n",
       "    </tr>\n",
       "    <tr>\n",
       "      <th>1</th>\n",
       "      <td>sub-NDARAA536PTU</td>\n",
       "      <td>123.0</td>\n",
       "    </tr>\n",
       "    <tr>\n",
       "      <th>2</th>\n",
       "      <td>sub-NDARAA948VFH</td>\n",
       "      <td>96.0</td>\n",
       "    </tr>\n",
       "    <tr>\n",
       "      <th>3</th>\n",
       "      <td>sub-NDARAB055BPR</td>\n",
       "      <td>98.0</td>\n",
       "    </tr>\n",
       "    <tr>\n",
       "      <th>4</th>\n",
       "      <td>sub-NDARAB348EWR</td>\n",
       "      <td>123.0</td>\n",
       "    </tr>\n",
       "  </tbody>\n",
       "</table>\n",
       "</div>"
      ],
      "text/plain": [
       "                EID   Read\n",
       "0  sub-NDARAA075AMK  146.0\n",
       "1  sub-NDARAA536PTU  123.0\n",
       "2  sub-NDARAA948VFH   96.0\n",
       "3  sub-NDARAB055BPR   98.0\n",
       "4  sub-NDARAB348EWR  123.0"
      ]
     },
     "execution_count": 18,
     "metadata": {},
     "output_type": "execute_result"
    }
   ],
   "source": [
    "read_df.columns = ['EID', 'Read']\n",
    "read_df.head()"
   ]
  },
  {
   "cell_type": "code",
   "execution_count": 20,
   "id": "996a1677",
   "metadata": {},
   "outputs": [],
   "source": [
    "read_df_noblanks = read_df[read_df.Read != ' ']"
   ]
  },
  {
   "cell_type": "code",
   "execution_count": 21,
   "id": "b13d6516",
   "metadata": {},
   "outputs": [],
   "source": [
    "pheno_df = pd.merge(filename_df, read_df_noblanks, on='EID', how='left')"
   ]
  },
  {
   "cell_type": "code",
   "execution_count": 22,
   "id": "24b99f2b",
   "metadata": {},
   "outputs": [],
   "source": [
    "# filter out nan's (for which EID didn't appear in Age data)\n",
    "pheno_df = pheno_df.dropna()"
   ]
  },
  {
   "cell_type": "code",
   "execution_count": 23,
   "id": "049198e9",
   "metadata": {},
   "outputs": [
    {
     "data": {
      "text/html": [
       "<div>\n",
       "<style scoped>\n",
       "    .dataframe tbody tr th:only-of-type {\n",
       "        vertical-align: middle;\n",
       "    }\n",
       "\n",
       "    .dataframe tbody tr th {\n",
       "        vertical-align: top;\n",
       "    }\n",
       "\n",
       "    .dataframe thead th {\n",
       "        text-align: right;\n",
       "    }\n",
       "</style>\n",
       "<table border=\"1\" class=\"dataframe\">\n",
       "  <thead>\n",
       "    <tr style=\"text-align: right;\">\n",
       "      <th></th>\n",
       "      <th>EID</th>\n",
       "      <th>Filename</th>\n",
       "      <th>Read</th>\n",
       "    </tr>\n",
       "  </thead>\n",
       "  <tbody>\n",
       "    <tr>\n",
       "      <th>0</th>\n",
       "      <td>sub-NDARGY622NG6</td>\n",
       "      <td>sub-NDARGY622NG6.fsa.lh.curv--65.00-0.00-0.00.png</td>\n",
       "      <td>54.0</td>\n",
       "    </tr>\n",
       "    <tr>\n",
       "      <th>2</th>\n",
       "      <td>sub-NDARDD854GF8</td>\n",
       "      <td>sub-NDARDD854GF8.fsa.lh.curv--65.00-0.00-0.00.png</td>\n",
       "      <td>119.0</td>\n",
       "    </tr>\n",
       "    <tr>\n",
       "      <th>6</th>\n",
       "      <td>sub-NDAREU591YYA</td>\n",
       "      <td>sub-NDAREU591YYA.fsa.lh.curv--65.00-0.00-0.00.png</td>\n",
       "      <td>109.0</td>\n",
       "    </tr>\n",
       "    <tr>\n",
       "      <th>10</th>\n",
       "      <td>sub-NDARBL532FPT</td>\n",
       "      <td>sub-NDARBL532FPT.fsa.lh.curv--65.00-0.00-0.00.png</td>\n",
       "      <td>106.0</td>\n",
       "    </tr>\n",
       "    <tr>\n",
       "      <th>11</th>\n",
       "      <td>sub-NDARJA157YB3</td>\n",
       "      <td>sub-NDARJA157YB3.fsa.lh.curv--65.00-0.00-0.00.png</td>\n",
       "      <td>101.0</td>\n",
       "    </tr>\n",
       "  </tbody>\n",
       "</table>\n",
       "</div>"
      ],
      "text/plain": [
       "                 EID                                           Filename   Read\n",
       "0   sub-NDARGY622NG6  sub-NDARGY622NG6.fsa.lh.curv--65.00-0.00-0.00.png   54.0\n",
       "2   sub-NDARDD854GF8  sub-NDARDD854GF8.fsa.lh.curv--65.00-0.00-0.00.png  119.0\n",
       "6   sub-NDAREU591YYA  sub-NDAREU591YYA.fsa.lh.curv--65.00-0.00-0.00.png  109.0\n",
       "10  sub-NDARBL532FPT  sub-NDARBL532FPT.fsa.lh.curv--65.00-0.00-0.00.png  106.0\n",
       "11  sub-NDARJA157YB3  sub-NDARJA157YB3.fsa.lh.curv--65.00-0.00-0.00.png  101.0"
      ]
     },
     "execution_count": 23,
     "metadata": {},
     "output_type": "execute_result"
    }
   ],
   "source": [
    "pheno_df.head()"
   ]
  },
  {
   "cell_type": "code",
   "execution_count": 25,
   "id": "ad8325aa",
   "metadata": {},
   "outputs": [
    {
     "data": {
      "text/plain": [
       "1423"
      ]
     },
     "execution_count": 25,
     "metadata": {},
     "output_type": "execute_result"
    }
   ],
   "source": [
    "len(pheno_df)"
   ]
  },
  {
   "cell_type": "code",
   "execution_count": 26,
   "id": "8fe6f6d0",
   "metadata": {},
   "outputs": [
    {
     "data": {
      "text/html": [
       "<div>\n",
       "<style scoped>\n",
       "    .dataframe tbody tr th:only-of-type {\n",
       "        vertical-align: middle;\n",
       "    }\n",
       "\n",
       "    .dataframe tbody tr th {\n",
       "        vertical-align: top;\n",
       "    }\n",
       "\n",
       "    .dataframe thead th {\n",
       "        text-align: right;\n",
       "    }\n",
       "</style>\n",
       "<table border=\"1\" class=\"dataframe\">\n",
       "  <thead>\n",
       "    <tr style=\"text-align: right;\">\n",
       "      <th></th>\n",
       "      <th>Filename</th>\n",
       "      <th>Read</th>\n",
       "    </tr>\n",
       "  </thead>\n",
       "  <tbody>\n",
       "    <tr>\n",
       "      <th>0</th>\n",
       "      <td>sub-NDARGY622NG6.fsa.lh.curv--65.00-0.00-0.00.png</td>\n",
       "      <td>54.0</td>\n",
       "    </tr>\n",
       "    <tr>\n",
       "      <th>2</th>\n",
       "      <td>sub-NDARDD854GF8.fsa.lh.curv--65.00-0.00-0.00.png</td>\n",
       "      <td>119.0</td>\n",
       "    </tr>\n",
       "    <tr>\n",
       "      <th>6</th>\n",
       "      <td>sub-NDAREU591YYA.fsa.lh.curv--65.00-0.00-0.00.png</td>\n",
       "      <td>109.0</td>\n",
       "    </tr>\n",
       "    <tr>\n",
       "      <th>10</th>\n",
       "      <td>sub-NDARBL532FPT.fsa.lh.curv--65.00-0.00-0.00.png</td>\n",
       "      <td>106.0</td>\n",
       "    </tr>\n",
       "    <tr>\n",
       "      <th>11</th>\n",
       "      <td>sub-NDARJA157YB3.fsa.lh.curv--65.00-0.00-0.00.png</td>\n",
       "      <td>101.0</td>\n",
       "    </tr>\n",
       "    <tr>\n",
       "      <th>...</th>\n",
       "      <td>...</td>\n",
       "      <td>...</td>\n",
       "    </tr>\n",
       "    <tr>\n",
       "      <th>2378</th>\n",
       "      <td>sub-NDARYZ637LK4.fsa.lh.curv--65.00-0.00-0.00.png</td>\n",
       "      <td>81.0</td>\n",
       "    </tr>\n",
       "    <tr>\n",
       "      <th>2383</th>\n",
       "      <td>sub-NDARTK834FT9.fsa.lh.curv--65.00-0.00-0.00.png</td>\n",
       "      <td>107.0</td>\n",
       "    </tr>\n",
       "    <tr>\n",
       "      <th>2384</th>\n",
       "      <td>sub-NDARRU729XRU.fsa.lh.curv--65.00-0.00-0.00.png</td>\n",
       "      <td>97.0</td>\n",
       "    </tr>\n",
       "    <tr>\n",
       "      <th>2385</th>\n",
       "      <td>sub-NDARCB627KDN.fsa.lh.curv--65.00-0.00-0.00.png</td>\n",
       "      <td>105.0</td>\n",
       "    </tr>\n",
       "    <tr>\n",
       "      <th>2386</th>\n",
       "      <td>sub-NDARBL444FBA.fsa.lh.curv--65.00-0.00-0.00.png</td>\n",
       "      <td>123.0</td>\n",
       "    </tr>\n",
       "  </tbody>\n",
       "</table>\n",
       "<p>1423 rows × 2 columns</p>\n",
       "</div>"
      ],
      "text/plain": [
       "                                               Filename   Read\n",
       "0     sub-NDARGY622NG6.fsa.lh.curv--65.00-0.00-0.00.png   54.0\n",
       "2     sub-NDARDD854GF8.fsa.lh.curv--65.00-0.00-0.00.png  119.0\n",
       "6     sub-NDAREU591YYA.fsa.lh.curv--65.00-0.00-0.00.png  109.0\n",
       "10    sub-NDARBL532FPT.fsa.lh.curv--65.00-0.00-0.00.png  106.0\n",
       "11    sub-NDARJA157YB3.fsa.lh.curv--65.00-0.00-0.00.png  101.0\n",
       "...                                                 ...    ...\n",
       "2378  sub-NDARYZ637LK4.fsa.lh.curv--65.00-0.00-0.00.png   81.0\n",
       "2383  sub-NDARTK834FT9.fsa.lh.curv--65.00-0.00-0.00.png  107.0\n",
       "2384  sub-NDARRU729XRU.fsa.lh.curv--65.00-0.00-0.00.png   97.0\n",
       "2385  sub-NDARCB627KDN.fsa.lh.curv--65.00-0.00-0.00.png  105.0\n",
       "2386  sub-NDARBL444FBA.fsa.lh.curv--65.00-0.00-0.00.png  123.0\n",
       "\n",
       "[1423 rows x 2 columns]"
      ]
     },
     "execution_count": 26,
     "metadata": {},
     "output_type": "execute_result"
    }
   ],
   "source": [
    "# save df as .csv\n",
    "label_dir = data_dir + '/labels'\n",
    "if not os.path.exists(label_dir):\n",
    "    os.makedirs(label_dir)\n",
    "pheno_df_nosub = pheno_df[['Filename', 'Read']]\n",
    "pheno_df_nosub"
   ]
  },
  {
   "cell_type": "code",
   "execution_count": 34,
   "id": "1df283d8",
   "metadata": {},
   "outputs": [],
   "source": [
    "# note: important to specify index=False so that index is not added as first column\n",
    "# this would lead to an unexpected format for CustomImageDataset\n",
    "pheno_df_nosub.to_csv(label_dir+'/read_nojitter_curv_sphere_labels.csv', index=False)"
   ]
  },
  {
   "cell_type": "code",
   "execution_count": 28,
   "id": "0192e680",
   "metadata": {},
   "outputs": [
    {
     "data": {
      "text/plain": [
       "['read_nojitter_curv_sphere_labels.csv',\n",
       " 'age_labels.csv',\n",
       " 'age_thickness_sphere_labels.csv']"
      ]
     },
     "execution_count": 28,
     "metadata": {},
     "output_type": "execute_result"
    }
   ],
   "source": [
    "os.listdir(label_dir)"
   ]
  },
  {
   "cell_type": "code",
   "execution_count": 29,
   "id": "f4a8119c",
   "metadata": {},
   "outputs": [],
   "source": [
    "readlabels = [x for x in os.listdir(label_dir) if 'read' in x][0]"
   ]
  },
  {
   "cell_type": "code",
   "execution_count": 30,
   "id": "54cf944f",
   "metadata": {},
   "outputs": [
    {
     "data": {
      "text/plain": [
       "'read_nojitter_curv_sphere_labels.csv'"
      ]
     },
     "execution_count": 30,
     "metadata": {},
     "output_type": "execute_result"
    }
   ],
   "source": [
    "readlabels"
   ]
  },
  {
   "cell_type": "markdown",
   "id": "fbf9ba02",
   "metadata": {},
   "source": [
    "## Load MNIST dataset for testing, if desired\n",
    "- optionally loads MNIST database for testing"
   ]
  },
  {
   "cell_type": "code",
   "execution_count": 9,
   "id": "470924a0",
   "metadata": {},
   "outputs": [],
   "source": [
    "# MNIST location\n",
    "proj_dir = '/scratch/groups/jyeatman/samjohns-projects'\n",
    "mnist_subdir = 'data/MNIST/mnist_png'\n",
    "mnist_dir = os.path.join(proj_dir, mnist_subdir)\n",
    "mnist_training_dir = os.path.join(mnist_dir, 'training')\n",
    "mnist_testing_dir = os.path.join(mnist_dir, 'testing')"
   ]
  },
  {
   "cell_type": "code",
   "execution_count": 10,
   "id": "392c1ba6",
   "metadata": {
    "collapsed": true
   },
   "outputs": [
    {
     "ename": "NameError",
     "evalue": "name 'ToFloat' is not defined",
     "output_type": "error",
     "traceback": [
      "\u001b[0;31m---------------------------------------------------------------------------\u001b[0m",
      "\u001b[0;31mNameError\u001b[0m                                 Traceback (most recent call last)",
      "\u001b[0;32m/tmp/ipykernel_167662/331416313.py\u001b[0m in \u001b[0;36m<module>\u001b[0;34m\u001b[0m\n\u001b[0;32m----> 1\u001b[0;31m \u001b[0mmnist_train\u001b[0m \u001b[0;34m=\u001b[0m \u001b[0mCustomImageDataset\u001b[0m\u001b[0;34m(\u001b[0m\u001b[0;34mf'{mnist_training_dir}/training_labels.csv'\u001b[0m\u001b[0;34m,\u001b[0m \u001b[0;34mf'{mnist_training_dir}/all'\u001b[0m\u001b[0;34m,\u001b[0m \u001b[0mtransform\u001b[0m\u001b[0;34m=\u001b[0m\u001b[0mtransforms\u001b[0m\u001b[0;34m.\u001b[0m\u001b[0mConvertImageDtype\u001b[0m\u001b[0;34m(\u001b[0m\u001b[0mtorch\u001b[0m\u001b[0;34m.\u001b[0m\u001b[0mfloat32\u001b[0m\u001b[0;34m)\u001b[0m\u001b[0;34m,\u001b[0m \u001b[0mtarget_transform\u001b[0m\u001b[0;34m=\u001b[0m\u001b[0mToFloat\u001b[0m\u001b[0;34m(\u001b[0m\u001b[0;34m)\u001b[0m\u001b[0;34m)\u001b[0m\u001b[0;34m\u001b[0m\u001b[0;34m\u001b[0m\u001b[0m\n\u001b[0m\u001b[1;32m      2\u001b[0m \u001b[0mmnist_test\u001b[0m \u001b[0;34m=\u001b[0m \u001b[0mCustomImageDataset\u001b[0m\u001b[0;34m(\u001b[0m\u001b[0;34mf'{mnist_testing_dir}/testing_labels.csv'\u001b[0m\u001b[0;34m,\u001b[0m \u001b[0;34mf'{mnist_testing_dir}/all'\u001b[0m\u001b[0;34m,\u001b[0m \u001b[0mtransform\u001b[0m\u001b[0;34m=\u001b[0m\u001b[0mtransforms\u001b[0m\u001b[0;34m.\u001b[0m\u001b[0mConvertImageDtype\u001b[0m\u001b[0;34m(\u001b[0m\u001b[0mtorch\u001b[0m\u001b[0;34m.\u001b[0m\u001b[0mfloat32\u001b[0m\u001b[0;34m)\u001b[0m\u001b[0;34m,\u001b[0m \u001b[0mtarget_transform\u001b[0m\u001b[0;34m=\u001b[0m\u001b[0mToFloat\u001b[0m\u001b[0;34m(\u001b[0m\u001b[0;34m)\u001b[0m\u001b[0;34m)\u001b[0m\u001b[0;34m\u001b[0m\u001b[0;34m\u001b[0m\u001b[0m\n",
      "\u001b[0;31mNameError\u001b[0m: name 'ToFloat' is not defined"
     ]
    }
   ],
   "source": [
    "mnist_train = CustomImageDataset(f'{mnist_training_dir}/training_labels.csv', f'{mnist_training_dir}/all', transform=transforms.ConvertImageDtype(torch.float32), target_transform=ToFloat())\n",
    "mnist_test = CustomImageDataset(f'{mnist_testing_dir}/testing_labels.csv', f'{mnist_testing_dir}/all', transform=transforms.ConvertImageDtype(torch.float32), target_transform=ToFloat())"
   ]
  },
  {
   "cell_type": "code",
   "execution_count": null,
   "id": "76dcb67c",
   "metadata": {},
   "outputs": [],
   "source": [
    "# for MNIST\n",
    "mnist_batch_size = 64\n",
    "\n",
    "mnist_trainloader = DataLoader(mnist_train, batch_size=mnist_batch_size, shuffle=True)\n",
    "mnist_testloader = DataLoader(mnist_test, batch_size=mnist_batch_size, shuffle=False)"
   ]
  },
  {
   "cell_type": "markdown",
   "id": "80a896e8",
   "metadata": {},
   "source": [
    "## Load dataset\n",
    "- Continue from this point if images and label files are already created"
   ]
  },
  {
   "cell_type": "code",
   "execution_count": 7,
   "id": "fb740615",
   "metadata": {},
   "outputs": [],
   "source": [
    "readlabels = [x for x in os.listdir(label_dir) if 'read' in x][0]\n",
    "# load labels to check for correct formatting\n",
    "test_df = pd.read_csv(f'{label_dir}/{readlabels}')"
   ]
  },
  {
   "cell_type": "code",
   "execution_count": 8,
   "id": "c2a1d216",
   "metadata": {
    "scrolled": true
   },
   "outputs": [
    {
     "data": {
      "text/html": [
       "<div>\n",
       "<style scoped>\n",
       "    .dataframe tbody tr th:only-of-type {\n",
       "        vertical-align: middle;\n",
       "    }\n",
       "\n",
       "    .dataframe tbody tr th {\n",
       "        vertical-align: top;\n",
       "    }\n",
       "\n",
       "    .dataframe thead th {\n",
       "        text-align: right;\n",
       "    }\n",
       "</style>\n",
       "<table border=\"1\" class=\"dataframe\">\n",
       "  <thead>\n",
       "    <tr style=\"text-align: right;\">\n",
       "      <th></th>\n",
       "      <th>Filename</th>\n",
       "      <th>Read</th>\n",
       "    </tr>\n",
       "  </thead>\n",
       "  <tbody>\n",
       "    <tr>\n",
       "      <th>0</th>\n",
       "      <td>sub-NDARGY622NG6.fsa.lh.curv--65.00-0.00-0.00.png</td>\n",
       "      <td>54.0</td>\n",
       "    </tr>\n",
       "    <tr>\n",
       "      <th>1</th>\n",
       "      <td>sub-NDARDD854GF8.fsa.lh.curv--65.00-0.00-0.00.png</td>\n",
       "      <td>119.0</td>\n",
       "    </tr>\n",
       "    <tr>\n",
       "      <th>2</th>\n",
       "      <td>sub-NDAREU591YYA.fsa.lh.curv--65.00-0.00-0.00.png</td>\n",
       "      <td>109.0</td>\n",
       "    </tr>\n",
       "    <tr>\n",
       "      <th>3</th>\n",
       "      <td>sub-NDARBL532FPT.fsa.lh.curv--65.00-0.00-0.00.png</td>\n",
       "      <td>106.0</td>\n",
       "    </tr>\n",
       "    <tr>\n",
       "      <th>4</th>\n",
       "      <td>sub-NDARJA157YB3.fsa.lh.curv--65.00-0.00-0.00.png</td>\n",
       "      <td>101.0</td>\n",
       "    </tr>\n",
       "    <tr>\n",
       "      <th>...</th>\n",
       "      <td>...</td>\n",
       "      <td>...</td>\n",
       "    </tr>\n",
       "    <tr>\n",
       "      <th>1418</th>\n",
       "      <td>sub-NDARYZ637LK4.fsa.lh.curv--65.00-0.00-0.00.png</td>\n",
       "      <td>81.0</td>\n",
       "    </tr>\n",
       "    <tr>\n",
       "      <th>1419</th>\n",
       "      <td>sub-NDARTK834FT9.fsa.lh.curv--65.00-0.00-0.00.png</td>\n",
       "      <td>107.0</td>\n",
       "    </tr>\n",
       "    <tr>\n",
       "      <th>1420</th>\n",
       "      <td>sub-NDARRU729XRU.fsa.lh.curv--65.00-0.00-0.00.png</td>\n",
       "      <td>97.0</td>\n",
       "    </tr>\n",
       "    <tr>\n",
       "      <th>1421</th>\n",
       "      <td>sub-NDARCB627KDN.fsa.lh.curv--65.00-0.00-0.00.png</td>\n",
       "      <td>105.0</td>\n",
       "    </tr>\n",
       "    <tr>\n",
       "      <th>1422</th>\n",
       "      <td>sub-NDARBL444FBA.fsa.lh.curv--65.00-0.00-0.00.png</td>\n",
       "      <td>123.0</td>\n",
       "    </tr>\n",
       "  </tbody>\n",
       "</table>\n",
       "<p>1423 rows × 2 columns</p>\n",
       "</div>"
      ],
      "text/plain": [
       "                                               Filename   Read\n",
       "0     sub-NDARGY622NG6.fsa.lh.curv--65.00-0.00-0.00.png   54.0\n",
       "1     sub-NDARDD854GF8.fsa.lh.curv--65.00-0.00-0.00.png  119.0\n",
       "2     sub-NDAREU591YYA.fsa.lh.curv--65.00-0.00-0.00.png  109.0\n",
       "3     sub-NDARBL532FPT.fsa.lh.curv--65.00-0.00-0.00.png  106.0\n",
       "4     sub-NDARJA157YB3.fsa.lh.curv--65.00-0.00-0.00.png  101.0\n",
       "...                                                 ...    ...\n",
       "1418  sub-NDARYZ637LK4.fsa.lh.curv--65.00-0.00-0.00.png   81.0\n",
       "1419  sub-NDARTK834FT9.fsa.lh.curv--65.00-0.00-0.00.png  107.0\n",
       "1420  sub-NDARRU729XRU.fsa.lh.curv--65.00-0.00-0.00.png   97.0\n",
       "1421  sub-NDARCB627KDN.fsa.lh.curv--65.00-0.00-0.00.png  105.0\n",
       "1422  sub-NDARBL444FBA.fsa.lh.curv--65.00-0.00-0.00.png  123.0\n",
       "\n",
       "[1423 rows x 2 columns]"
      ]
     },
     "execution_count": 8,
     "metadata": {},
     "output_type": "execute_result"
    }
   ],
   "source": [
    "test_df"
   ]
  },
  {
   "cell_type": "code",
   "execution_count": 9,
   "id": "cc087dce",
   "metadata": {},
   "outputs": [
    {
     "name": "stdout",
     "output_type": "stream",
     "text": [
      "Mean: 105.0203794799719, \n",
      "Standard Deviation: 15.81553316544752\n"
     ]
    }
   ],
   "source": [
    "# compute statistics of reading scores\n",
    "m = test_df['Read'].mean()\n",
    "s = test_df['Read'].std()\n",
    "print(f'Mean: {m}, \\nStandard Deviation: {s}')"
   ]
  },
  {
   "cell_type": "code",
   "execution_count": 10,
   "id": "ea1a32bb",
   "metadata": {},
   "outputs": [],
   "source": [
    "# load total dataset\n",
    "read_curv = CustomImageDataset(f'{label_dir}/{readlabels}', image_dir, transform=transforms.ConvertImageDtype(torch.float32), target_transform=ToFloat())"
   ]
  },
  {
   "cell_type": "code",
   "execution_count": 11,
   "id": "7e9718d5",
   "metadata": {},
   "outputs": [
    {
     "data": {
      "text/plain": [
       "(142, 1281)"
      ]
     },
     "execution_count": 11,
     "metadata": {},
     "output_type": "execute_result"
    }
   ],
   "source": [
    "# create random split into train and test sets\n",
    "nsamples = len(read_curv)\n",
    "indices = list(range(nsamples))\n",
    "ntest = nsamples // 10\n",
    "ntrain = nsamples - ntest\n",
    "test_indices = list(np.random.choice(indices, size=ntest, replace=False))\n",
    "train_indices = list(set(indices) - set(test_indices))\n",
    "(len(test_indices), len(train_indices))"
   ]
  },
  {
   "cell_type": "code",
   "execution_count": 12,
   "id": "9108d796",
   "metadata": {},
   "outputs": [],
   "source": [
    "curv_read_train = torch.utils.data.Subset(read_curv, train_indices) \n",
    "curv_read_test = torch.utils.data.Subset(read_curv, test_indices) "
   ]
  },
  {
   "cell_type": "code",
   "execution_count": 13,
   "id": "e5871f5c",
   "metadata": {},
   "outputs": [],
   "source": [
    "# create dataloaders for convenient batching\n",
    "batch_size = 64\n",
    "\n",
    "trainloader = DataLoader(curv_read_train, batch_size=batch_size, shuffle=True, num_workers=3, pin_memory=True)\n",
    "testloader = DataLoader(curv_read_test, batch_size=batch_size, shuffle=False, num_workers=3, pin_memory=True)"
   ]
  },
  {
   "cell_type": "code",
   "execution_count": 14,
   "id": "6f39c6d0",
   "metadata": {},
   "outputs": [],
   "source": [
    "train_batch = next(iter(trainloader))"
   ]
  },
  {
   "cell_type": "code",
   "execution_count": 18,
   "id": "f1ed3c9b",
   "metadata": {},
   "outputs": [
    {
     "data": {
      "text/plain": [
       "(torch.Size([64, 1, 200, 200]), torch.float32, torch.Size([64]), torch.float32)"
      ]
     },
     "execution_count": 18,
     "metadata": {},
     "output_type": "execute_result"
    }
   ],
   "source": [
    "X, y = train_batch\n",
    "X.shape, X.dtype, y.shape, y.dtype"
   ]
  },
  {
   "cell_type": "code",
   "execution_count": 19,
   "id": "69635454",
   "metadata": {
    "scrolled": true
   },
   "outputs": [
    {
     "name": "stdout",
     "output_type": "stream",
     "text": [
      "Classes: tensor([ 95., 107., 121.,  71., 120.])\n"
     ]
    },
    {
     "data": {
      "image/png": "[encoded data removed]",
      "text/plain": [
       "<Figure size 1440x720 with 1 Axes>"
      ]
     },
     "metadata": {
      "needs_background": "light"
     },
     "output_type": "display_data"
    }
   ],
   "source": [
    "# visualize images\n",
    "\n",
    "from user.utils import imshow\n",
    "\n",
    "# Get a batch of training data\n",
    "inputs, classes = next(iter(trainloader))\n",
    "\n",
    "# Make a grid from batch (nrows images per row)\n",
    "print(f'Classes: {classes[:5]}')\n",
    "out = torchvision.utils.make_grid(inputs[:5], nrow=4)\n",
    "\n",
    "imshow(out)"
   ]
  },
  {
   "cell_type": "markdown",
   "id": "7637726f",
   "metadata": {},
   "source": [
    "## Model training (for testing Freeview image CNN)"
   ]
  },
  {
   "cell_type": "code",
   "execution_count": 20,
   "id": "36d7cd38",
   "metadata": {},
   "outputs": [
    {
     "data": {
      "text/plain": [
       "device(type='cuda', index=0)"
      ]
     },
     "execution_count": 20,
     "metadata": {},
     "output_type": "execute_result"
    }
   ],
   "source": [
    "device = user.utils.get_device()\n",
    "device"
   ]
  },
  {
   "cell_type": "code",
   "execution_count": 21,
   "id": "5e7e546e",
   "metadata": {},
   "outputs": [],
   "source": [
    "from user.models import SmallConvNet"
   ]
  },
  {
   "cell_type": "code",
   "execution_count": 22,
   "id": "4c04bcf5",
   "metadata": {},
   "outputs": [],
   "source": [
    "cnn = SmallConvNet()"
   ]
  },
  {
   "cell_type": "code",
   "execution_count": 23,
   "id": "6f06f30f",
   "metadata": {},
   "outputs": [
    {
     "data": {
      "text/plain": [
       "SmallConvNet(\n",
       "  (block1): ConvPoolBlock(\n",
       "    (c1): Conv2d(1, 32, kernel_size=(4, 4), stride=(1, 1), padding=same)\n",
       "    (c2): Conv2d(32, 64, kernel_size=(4, 4), stride=(1, 1), padding=same)\n",
       "    (p): MaxPool2d(kernel_size=4, stride=2, padding=0, dilation=1, ceil_mode=False)\n",
       "  )\n",
       "  (block2): ConvPoolBlock(\n",
       "    (c1): Conv2d(64, 128, kernel_size=(4, 4), stride=(1, 1), padding=same)\n",
       "    (c2): Conv2d(128, 128, kernel_size=(4, 4), stride=(1, 1), padding=same)\n",
       "    (p): MaxPool2d(kernel_size=4, stride=2, padding=0, dilation=1, ceil_mode=False)\n",
       "  )\n",
       "  (block3): ConvPoolBlock(\n",
       "    (c1): Conv2d(128, 128, kernel_size=(4, 4), stride=(1, 1), padding=same)\n",
       "    (c2): Conv2d(128, 128, kernel_size=(4, 4), stride=(1, 1), padding=same)\n",
       "    (p): MaxPool2d(kernel_size=4, stride=2, padding=0, dilation=1, ceil_mode=False)\n",
       "  )\n",
       "  (block4): ConvPoolBlock(\n",
       "    (c1): Conv2d(128, 128, kernel_size=(4, 4), stride=(1, 1), padding=same)\n",
       "    (c2): Conv2d(128, 64, kernel_size=(4, 4), stride=(1, 1), padding=same)\n",
       "    (p): MaxPool2d(kernel_size=4, stride=2, padding=0, dilation=1, ceil_mode=False)\n",
       "  )\n",
       "  (fc1): Linear(in_features=6400, out_features=100, bias=True)\n",
       "  (fc2): Linear(in_features=100, out_features=24, bias=True)\n",
       "  (fc3): Linear(in_features=24, out_features=1, bias=True)\n",
       ")"
      ]
     },
     "execution_count": 23,
     "metadata": {},
     "output_type": "execute_result"
    }
   ],
   "source": [
    "cnn"
   ]
  },
  {
   "cell_type": "code",
   "execution_count": 24,
   "id": "15de6fa0",
   "metadata": {},
   "outputs": [
    {
     "data": {
      "text/plain": [
       "SmallConvNet(\n",
       "  (block1): ConvPoolBlock(\n",
       "    (c1): Conv2d(1, 32, kernel_size=(4, 4), stride=(1, 1), padding=same)\n",
       "    (c2): Conv2d(32, 64, kernel_size=(4, 4), stride=(1, 1), padding=same)\n",
       "    (p): MaxPool2d(kernel_size=4, stride=2, padding=0, dilation=1, ceil_mode=False)\n",
       "  )\n",
       "  (block2): ConvPoolBlock(\n",
       "    (c1): Conv2d(64, 128, kernel_size=(4, 4), stride=(1, 1), padding=same)\n",
       "    (c2): Conv2d(128, 128, kernel_size=(4, 4), stride=(1, 1), padding=same)\n",
       "    (p): MaxPool2d(kernel_size=4, stride=2, padding=0, dilation=1, ceil_mode=False)\n",
       "  )\n",
       "  (block3): ConvPoolBlock(\n",
       "    (c1): Conv2d(128, 128, kernel_size=(4, 4), stride=(1, 1), padding=same)\n",
       "    (c2): Conv2d(128, 128, kernel_size=(4, 4), stride=(1, 1), padding=same)\n",
       "    (p): MaxPool2d(kernel_size=4, stride=2, padding=0, dilation=1, ceil_mode=False)\n",
       "  )\n",
       "  (block4): ConvPoolBlock(\n",
       "    (c1): Conv2d(128, 128, kernel_size=(4, 4), stride=(1, 1), padding=same)\n",
       "    (c2): Conv2d(128, 64, kernel_size=(4, 4), stride=(1, 1), padding=same)\n",
       "    (p): MaxPool2d(kernel_size=4, stride=2, padding=0, dilation=1, ceil_mode=False)\n",
       "  )\n",
       "  (fc1): Linear(in_features=6400, out_features=100, bias=True)\n",
       "  (fc2): Linear(in_features=100, out_features=24, bias=True)\n",
       "  (fc3): Linear(in_features=24, out_features=1, bias=True)\n",
       ")"
      ]
     },
     "execution_count": 24,
     "metadata": {},
     "output_type": "execute_result"
    }
   ],
   "source": [
    "from torchsummary import summary\n",
    "cnn.to(device)"
   ]
  },
  {
   "cell_type": "code",
   "execution_count": 25,
   "id": "2bfe6022",
   "metadata": {},
   "outputs": [
    {
     "name": "stdout",
     "output_type": "stream",
     "text": [
      "==========================================================================================\n",
      "Layer (type:depth-idx)                   Output Shape              Param #\n",
      "==========================================================================================\n",
      "├─ConvPoolBlock: 1-1                     [-1, 64, 99, 99]          --\n",
      "|    └─Conv2d: 2-1                       [-1, 32, 200, 200]        544\n",
      "|    └─Conv2d: 2-2                       [-1, 64, 200, 200]        32,832\n",
      "|    └─MaxPool2d: 2-3                    [-1, 64, 99, 99]          --\n",
      "├─ConvPoolBlock: 1-2                     [-1, 128, 48, 48]         --\n",
      "|    └─Conv2d: 2-4                       [-1, 128, 99, 99]         131,200\n",
      "|    └─Conv2d: 2-5                       [-1, 128, 99, 99]         262,272\n",
      "|    └─MaxPool2d: 2-6                    [-1, 128, 48, 48]         --\n",
      "├─ConvPoolBlock: 1-3                     [-1, 128, 23, 23]         --\n",
      "|    └─Conv2d: 2-7                       [-1, 128, 48, 48]         262,272\n",
      "|    └─Conv2d: 2-8                       [-1, 128, 48, 48]         262,272\n",
      "|    └─MaxPool2d: 2-9                    [-1, 128, 23, 23]         --\n",
      "├─ConvPoolBlock: 1-4                     [-1, 64, 10, 10]          --\n",
      "|    └─Conv2d: 2-10                      [-1, 128, 23, 23]         262,272\n",
      "|    └─Conv2d: 2-11                      [-1, 64, 23, 23]          131,136\n",
      "|    └─MaxPool2d: 2-12                   [-1, 64, 10, 10]          --\n",
      "├─Linear: 1-5                            [-1, 100]                 640,100\n",
      "├─Linear: 1-6                            [-1, 24]                  2,424\n",
      "├─Linear: 1-7                            [-1, 1]                   25\n",
      "==========================================================================================\n",
      "Total params: 1,987,349\n",
      "Trainable params: 1,987,349\n",
      "Non-trainable params: 0\n",
      "Total mult-adds (G): 6.60\n",
      "==========================================================================================\n",
      "Input size (MB): 0.15\n",
      "Forward/backward pass size (MB): 53.72\n",
      "Params size (MB): 7.58\n",
      "Estimated Total Size (MB): 61.45\n",
      "==========================================================================================\n"
     ]
    },
    {
     "name": "stderr",
     "output_type": "stream",
     "text": [
      "/home/groups/jyeatman/software/anaconda3/envs/torch-ni-ny/lib/python3.9/site-packages/torch/nn/modules/conv.py:442: UserWarning: Using padding='same' with even kernel lengths and odd dilation may require a zero-padded copy of the input be created (Triggered internally at  /opt/conda/conda-bld/pytorch_1634272204863/work/aten/src/ATen/native/Convolution.cpp:647.)\n",
      "  return F.conv2d(input, weight, bias, self.stride,\n"
     ]
    },
    {
     "data": {
      "text/plain": [
       "==========================================================================================\n",
       "Layer (type:depth-idx)                   Output Shape              Param #\n",
       "==========================================================================================\n",
       "├─ConvPoolBlock: 1-1                     [-1, 64, 99, 99]          --\n",
       "|    └─Conv2d: 2-1                       [-1, 32, 200, 200]        544\n",
       "|    └─Conv2d: 2-2                       [-1, 64, 200, 200]        32,832\n",
       "|    └─MaxPool2d: 2-3                    [-1, 64, 99, 99]          --\n",
       "├─ConvPoolBlock: 1-2                     [-1, 128, 48, 48]         --\n",
       "|    └─Conv2d: 2-4                       [-1, 128, 99, 99]         131,200\n",
       "|    └─Conv2d: 2-5                       [-1, 128, 99, 99]         262,272\n",
       "|    └─MaxPool2d: 2-6                    [-1, 128, 48, 48]         --\n",
       "├─ConvPoolBlock: 1-3                     [-1, 128, 23, 23]         --\n",
       "|    └─Conv2d: 2-7                       [-1, 128, 48, 48]         262,272\n",
       "|    └─Conv2d: 2-8                       [-1, 128, 48, 48]         262,272\n",
       "|    └─MaxPool2d: 2-9                    [-1, 128, 23, 23]         --\n",
       "├─ConvPoolBlock: 1-4                     [-1, 64, 10, 10]          --\n",
       "|    └─Conv2d: 2-10                      [-1, 128, 23, 23]         262,272\n",
       "|    └─Conv2d: 2-11                      [-1, 64, 23, 23]          131,136\n",
       "|    └─MaxPool2d: 2-12                   [-1, 64, 10, 10]          --\n",
       "├─Linear: 1-5                            [-1, 100]                 640,100\n",
       "├─Linear: 1-6                            [-1, 24]                  2,424\n",
       "├─Linear: 1-7                            [-1, 1]                   25\n",
       "==========================================================================================\n",
       "Total params: 1,987,349\n",
       "Trainable params: 1,987,349\n",
       "Non-trainable params: 0\n",
       "Total mult-adds (G): 6.60\n",
       "==========================================================================================\n",
       "Input size (MB): 0.15\n",
       "Forward/backward pass size (MB): 53.72\n",
       "Params size (MB): 7.58\n",
       "Estimated Total Size (MB): 61.45\n",
       "=========================================================================================="
      ]
     },
     "execution_count": 25,
     "metadata": {},
     "output_type": "execute_result"
    }
   ],
   "source": [
    "summary(cnn, input_data=(1, 200, 200))"
   ]
  },
  {
   "cell_type": "code",
   "execution_count": 55,
   "id": "abaf108c",
   "metadata": {},
   "outputs": [],
   "source": [
    "class ConvPoolBlock(nn.Module):\n",
    "    def __init__(self, cin, cmid, cout, k=4, downstride=2):\n",
    "        super().__init__()\n",
    "        self.c1 = nn.Conv2d(cin, cmid, k, padding='same')\n",
    "        self.c2 = nn.Conv2d(cmid, cout, k, padding='same')\n",
    "        self.m = nn.MaxPool2d(k, stride=downstride)\n",
    "            \n",
    "    def forward(self, x):\n",
    "        x = F.relu(self.c1(x))\n",
    "        x = F.relu(self.c2(x))\n",
    "        x = self.m(x)\n",
    "        return x"
   ]
  },
  {
   "cell_type": "markdown",
   "id": "3e1a08f0",
   "metadata": {},
   "source": [
    "## Training cell below\n",
    "- caution: can take a long time to execute\n",
    "- loading data (in epoch one) can take a long time;\n",
    "- subsequent epochs go faster"
   ]
  },
  {
   "cell_type": "code",
   "execution_count": 28,
   "id": "ff367a1b",
   "metadata": {},
   "outputs": [],
   "source": [
    "lrs = [1e-2, 1e-3, 1e-4, 1e-5]\n",
    "batch_sizes = [4, 8, 16, 32, 64, 128]\n",
    "weight_decays = [0] #[0, 1e-1, 1e-2]"
   ]
  },
  {
   "cell_type": "code",
   "execution_count": 26,
   "id": "794d20a8",
   "metadata": {},
   "outputs": [],
   "source": [
    "lrs = [1e-2, 1e-3]\n",
    "batch_sizes = [8, 32]"
   ]
  },
  {
   "cell_type": "code",
   "execution_count": 28,
   "id": "fb25216e",
   "metadata": {},
   "outputs": [
    {
     "name": "stdout",
     "output_type": "stream",
     "text": [
      "Epoch 1\n",
      "-------------------------------\n",
      "loss: 11011.414062  [    0/ 1281]\n"
     ]
    },
    {
     "name": "stderr",
     "output_type": "stream",
     "text": [
      "/home/groups/jyeatman/software/anaconda3/envs/torch-ni-ny/lib/python3.9/site-packages/torch/nn/modules/loss.py:520: UserWarning: Using a target size (torch.Size([1])) that is different to the input size (torch.Size([])). This will likely lead to incorrect results due to broadcasting. Please ensure they have the same size.\n",
      "  return F.mse_loss(input, target, reduction=self.reduction)\n"
     ]
    },
    {
     "name": "stdout",
     "output_type": "stream",
     "text": [
      "Test Error: \n",
      " Avg loss: 9085.341471 \n",
      "\n",
      "Epoch 2\n",
      "-------------------------------\n",
      "loss: 8902.792969  [    0/ 1281]\n",
      "Test Error: \n",
      " Avg loss: 946.067830 \n",
      "\n",
      "Epoch 3\n",
      "-------------------------------\n",
      "loss: 759.175659  [    0/ 1281]\n",
      "Test Error: \n",
      " Avg loss: 340.689677 \n",
      "\n",
      "Epoch 4\n",
      "-------------------------------\n",
      "loss: 309.469666  [    0/ 1281]\n",
      "Test Error: \n",
      " Avg loss: 284.077840 \n",
      "\n",
      "Epoch 5\n",
      "-------------------------------\n",
      "loss: 245.946884  [    0/ 1281]\n",
      "Test Error: \n",
      " Avg loss: 277.033783 \n",
      "\n",
      "Epoch 6\n",
      "-------------------------------\n",
      "loss: 279.955017  [    0/ 1281]\n",
      "Test Error: \n",
      " Avg loss: 658.384318 \n",
      "\n",
      "Epoch 7\n",
      "-------------------------------\n",
      "loss: 500.695404  [    0/ 1281]\n",
      "Test Error: \n",
      " Avg loss: 339.226756 \n",
      "\n",
      "Epoch 8\n",
      "-------------------------------\n",
      "loss: 244.067490  [    0/ 1281]\n",
      "Test Error: \n",
      " Avg loss: 319.396790 \n",
      "\n",
      "Epoch 9\n",
      "-------------------------------\n",
      "loss: 350.582458  [    0/ 1281]\n",
      "Test Error: \n",
      " Avg loss: 848.352173 \n",
      "\n",
      "Epoch 10\n",
      "-------------------------------\n",
      "loss: 851.362610  [    0/ 1281]\n",
      "Test Error: \n",
      " Avg loss: 2393.194255 \n",
      "\n",
      "Epoch 11\n",
      "-------------------------------\n",
      "loss: 2409.436035  [    0/ 1281]\n",
      "Test Error: \n",
      " Avg loss: 401.379222 \n",
      "\n",
      "Epoch 12\n",
      "-------------------------------\n",
      "loss: 379.292908  [    0/ 1281]\n",
      "Test Error: \n",
      " Avg loss: 349.454692 \n",
      "\n",
      "Epoch 13\n",
      "-------------------------------\n",
      "loss: 286.499542  [    0/ 1281]\n",
      "Test Error: \n",
      " Avg loss: 282.203837 \n",
      "\n",
      "Epoch 14\n",
      "-------------------------------\n",
      "loss: 208.036163  [    0/ 1281]\n",
      "Test Error: \n",
      " Avg loss: 283.407425 \n",
      "\n",
      "Epoch 15\n",
      "-------------------------------\n",
      "loss: 241.537659  [    0/ 1281]\n",
      "Test Error: \n",
      " Avg loss: 298.855754 \n",
      "\n",
      "Epoch 16\n",
      "-------------------------------\n",
      "loss: 260.465027  [    0/ 1281]\n",
      "Test Error: \n",
      " Avg loss: 1661.401326 \n",
      "\n",
      "Epoch 17\n",
      "-------------------------------\n",
      "loss: 1992.785522  [    0/ 1281]\n",
      "Test Error: \n",
      " Avg loss: 868.723857 \n",
      "\n",
      "Epoch 18\n",
      "-------------------------------\n",
      "loss: 878.024536  [    0/ 1281]\n",
      "Test Error: \n",
      " Avg loss: 440.740133 \n",
      "\n",
      "Epoch 19\n",
      "-------------------------------\n",
      "loss: 372.927429  [    0/ 1281]\n",
      "Test Error: \n",
      " Avg loss: 577.579854 \n",
      "\n",
      "Epoch 20\n",
      "-------------------------------\n",
      "loss: 602.608032  [    0/ 1281]\n",
      "Test Error: \n",
      " Avg loss: 505.007751 \n",
      "\n",
      "Epoch 21\n",
      "-------------------------------\n",
      "loss: 475.877289  [    0/ 1281]\n",
      "Test Error: \n",
      " Avg loss: 296.542079 \n",
      "\n",
      "Epoch 22\n",
      "-------------------------------\n",
      "loss: 231.535995  [    0/ 1281]\n",
      "Test Error: \n",
      " Avg loss: 360.990479 \n",
      "\n",
      "Epoch 23\n",
      "-------------------------------\n",
      "loss: 344.289307  [    0/ 1281]\n",
      "Test Error: \n",
      " Avg loss: 280.896357 \n",
      "\n",
      "Epoch 24\n",
      "-------------------------------\n",
      "loss: 202.609314  [    0/ 1281]\n",
      "Test Error: \n",
      " Avg loss: 282.718185 \n",
      "\n",
      "Epoch 25\n",
      "-------------------------------\n",
      "loss: 259.747070  [    0/ 1281]\n",
      "Test Error: \n",
      " Avg loss: 387.940226 \n",
      "\n",
      "Epoch 26\n",
      "-------------------------------\n",
      "loss: 351.989899  [    0/ 1281]\n",
      "Test Error: \n",
      " Avg loss: 305.860606 \n",
      "\n",
      "Epoch 27\n",
      "-------------------------------\n",
      "loss: 308.149353  [    0/ 1281]\n",
      "Test Error: \n",
      " Avg loss: 421.079356 \n",
      "\n",
      "Epoch 28\n",
      "-------------------------------\n",
      "loss: 373.081177  [    0/ 1281]\n",
      "Test Error: \n",
      " Avg loss: 503.264211 \n",
      "\n",
      "Epoch 29\n",
      "-------------------------------\n",
      "loss: 381.294098  [    0/ 1281]\n",
      "Test Error: \n",
      " Avg loss: 309.316986 \n",
      "\n",
      "Epoch 30\n",
      "-------------------------------\n",
      "loss: 238.078247  [    0/ 1281]\n",
      "Test Error: \n",
      " Avg loss: 542.567881 \n",
      "\n",
      "Epoch 31\n",
      "-------------------------------\n",
      "loss: 438.866333  [    0/ 1281]\n",
      "Test Error: \n",
      " Avg loss: 654.707764 \n",
      "\n",
      "Epoch 32\n",
      "-------------------------------\n",
      "loss: 582.816528  [    0/ 1281]\n",
      "Test Error: \n",
      " Avg loss: 336.810069 \n",
      "\n",
      "Epoch 33\n",
      "-------------------------------\n",
      "loss: 288.830750  [    0/ 1281]\n",
      "Test Error: \n",
      " Avg loss: 661.578471 \n",
      "\n",
      "Epoch 34\n",
      "-------------------------------\n",
      "loss: 650.059814  [    0/ 1281]\n",
      "Test Error: \n",
      " Avg loss: 476.394867 \n",
      "\n",
      "Epoch 35\n",
      "-------------------------------\n",
      "loss: 538.398376  [    0/ 1281]\n",
      "Test Error: \n",
      " Avg loss: 367.475271 \n",
      "\n",
      "Epoch 36\n",
      "-------------------------------\n",
      "loss: 324.147034  [    0/ 1281]\n",
      "Test Error: \n",
      " Avg loss: 281.700343 \n",
      "\n",
      "Epoch 37\n",
      "-------------------------------\n",
      "loss: 291.360229  [    0/ 1281]\n",
      "Test Error: \n",
      " Avg loss: 345.281006 \n",
      "\n",
      "Epoch 38\n",
      "-------------------------------\n",
      "loss: 296.435944  [    0/ 1281]\n",
      "Test Error: \n",
      " Avg loss: 312.617483 \n",
      "\n",
      "Epoch 39\n",
      "-------------------------------\n",
      "loss: 194.139679  [    0/ 1281]\n",
      "Test Error: \n",
      " Avg loss: 503.490540 \n",
      "\n",
      "Epoch 40\n",
      "-------------------------------\n",
      "loss: 410.838440  [    0/ 1281]\n",
      "Test Error: \n",
      " Avg loss: 392.182495 \n",
      "\n",
      "Epoch 41\n",
      "-------------------------------\n",
      "loss: 389.848511  [    0/ 1281]\n",
      "Test Error: \n",
      " Avg loss: 598.705485 \n",
      "\n",
      "Epoch 42\n",
      "-------------------------------\n",
      "loss: 666.230225  [    0/ 1281]\n",
      "Test Error: \n",
      " Avg loss: 349.486542 \n",
      "\n",
      "Epoch 43\n",
      "-------------------------------\n",
      "loss: 285.344208  [    0/ 1281]\n",
      "Test Error: \n",
      " Avg loss: 606.187927 \n",
      "\n",
      "Epoch 44\n",
      "-------------------------------\n",
      "loss: 510.772339  [    0/ 1281]\n",
      "Test Error: \n",
      " Avg loss: 288.751928 \n",
      "\n",
      "Epoch 45\n",
      "-------------------------------\n",
      "loss: 190.674225  [    0/ 1281]\n",
      "Test Error: \n",
      " Avg loss: 283.641617 \n",
      "\n",
      "Epoch 46\n",
      "-------------------------------\n",
      "loss: 209.804901  [    0/ 1281]\n",
      "Test Error: \n",
      " Avg loss: 562.487956 \n",
      "\n",
      "Epoch 47\n",
      "-------------------------------\n",
      "loss: 490.383972  [    0/ 1281]\n",
      "Test Error: \n",
      " Avg loss: 298.255819 \n",
      "\n",
      "Epoch 48\n",
      "-------------------------------\n",
      "loss: 311.462830  [    0/ 1281]\n",
      "Test Error: \n",
      " Avg loss: 492.305715 \n",
      "\n",
      "Epoch 49\n",
      "-------------------------------\n",
      "loss: 496.173645  [    0/ 1281]\n",
      "Test Error: \n",
      " Avg loss: 334.792684 \n",
      "\n",
      "Epoch 50\n",
      "-------------------------------\n",
      "loss: 365.629272  [    0/ 1281]\n",
      "Test Error: \n",
      " Avg loss: 516.823985 \n",
      "\n",
      "Done!\n"
     ]
    }
   ],
   "source": [
    "model = cnn\n",
    "loss_fn = nn.MSELoss() # note that we use MSE, somewhat atypical for cnn\n",
    "optimizer = optim.Adam(model.parameters(), lr=1e-3)\n",
    "user.train.train(model, loss_fn, optimizer, trainloader, testloader)+"
   ]
  },
  {
   "cell_type": "code",
   "execution_count": null,
   "id": "ee352d80",
   "metadata": {},
   "outputs": [],
   "source": [
    "# loop over several training models -- grid search\n",
    "epochs = 50\n",
    "for lr in lrs:\n",
    "    for batch_size in batch_sizes:\n",
    "        for wd in weight_decays:\n",
    "            print(f'lr: {lr}, batch size: {batch_size}')\n",
    "            # create dataloaders for convenient batching\n",
    "            trainloader = DataLoader(thickness_train, batch_size=batch_size, shuffle=True, num_workers=3, pin_memory=True)\n",
    "            testloader = DataLoader(thickness_test, batch_size=batch_size, shuffle=False, num_workers=3, pin_memory=True)\n",
    "            \n",
    "            model = ConvNet().to(device)\n",
    "            loss_fn = nn.MSELoss() # note that we use MSE, somewhat atypical for cnn\n",
    "            optimizer = optim.Adam(model.parameters(), lr=lr, weight_decay=wd)\n",
    "            \n",
    "            # train here\n",
    "            train.train(model, loss_fn, optimizer, trainloader, testloader, epochs=epochs)"
   ]
  },
  {
   "cell_type": "code",
   "execution_count": 47,
   "id": "1002a6f9",
   "metadata": {},
   "outputs": [
    {
     "data": {
      "text/html": [
       "<div>\n",
       "<style scoped>\n",
       "    .dataframe tbody tr th:only-of-type {\n",
       "        vertical-align: middle;\n",
       "    }\n",
       "\n",
       "    .dataframe tbody tr th {\n",
       "        vertical-align: top;\n",
       "    }\n",
       "\n",
       "    .dataframe thead th {\n",
       "        text-align: right;\n",
       "    }\n",
       "</style>\n",
       "<table border=\"1\" class=\"dataframe\">\n",
       "  <thead>\n",
       "    <tr style=\"text-align: right;\">\n",
       "      <th></th>\n",
       "      <th>Filename</th>\n",
       "      <th>Age</th>\n",
       "    </tr>\n",
       "  </thead>\n",
       "  <tbody>\n",
       "    <tr>\n",
       "      <th>0</th>\n",
       "      <td>sub-NDARKB614KGY.fsa.lh.thickness--69.91--2.30...</td>\n",
       "      <td>11</td>\n",
       "    </tr>\n",
       "    <tr>\n",
       "      <th>1</th>\n",
       "      <td>sub-NDARCZ947WU5.fsa.lh.thickness--66.48-4.59-...</td>\n",
       "      <td>9</td>\n",
       "    </tr>\n",
       "    <tr>\n",
       "      <th>2</th>\n",
       "      <td>sub-NDARPL215MTH.fsa.lh.thickness--61.84--3.62...</td>\n",
       "      <td>10</td>\n",
       "    </tr>\n",
       "    <tr>\n",
       "      <th>3</th>\n",
       "      <td>sub-NDARRW100AU0.fsa.lh.thickness--67.39--2.71...</td>\n",
       "      <td>8</td>\n",
       "    </tr>\n",
       "    <tr>\n",
       "      <th>4</th>\n",
       "      <td>sub-NDARKF615JNZ.fsa.lh.thickness--61.16-0.99-...</td>\n",
       "      <td>10</td>\n",
       "    </tr>\n",
       "  </tbody>\n",
       "</table>\n",
       "</div>"
      ],
      "text/plain": [
       "                                            Filename  Age\n",
       "0  sub-NDARKB614KGY.fsa.lh.thickness--69.91--2.30...   11\n",
       "1  sub-NDARCZ947WU5.fsa.lh.thickness--66.48-4.59-...    9\n",
       "2  sub-NDARPL215MTH.fsa.lh.thickness--61.84--3.62...   10\n",
       "3  sub-NDARRW100AU0.fsa.lh.thickness--67.39--2.71...    8\n",
       "4  sub-NDARKF615JNZ.fsa.lh.thickness--61.16-0.99-...   10"
      ]
     },
     "execution_count": 47,
     "metadata": {},
     "output_type": "execute_result"
    }
   ],
   "source": [
    "# comparison to predicting average\n",
    "test_df.head()"
   ]
  },
  {
   "cell_type": "code",
   "execution_count": 33,
   "id": "71c8bdc8",
   "metadata": {},
   "outputs": [
    {
     "name": "stdout",
     "output_type": "stream",
     "text": [
      "Age: (mean, std) = (10.811992584542606, 3.661851898546048)\n"
     ]
    }
   ],
   "source": [
    "m = test_df.Age.mean()\n",
    "s = test_df.Age.std()\n",
    "print(f'Age: (mean, std) = ({m}, {s})')"
   ]
  },
  {
   "cell_type": "code",
   "execution_count": null,
   "id": "cff183c6",
   "metadata": {},
   "outputs": [],
   "source": []
  },
  {
   "cell_type": "code",
   "execution_count": null,
   "id": "c2be73f1",
   "metadata": {},
   "outputs": [],
   "source": []
  },
  {
   "cell_type": "code",
   "execution_count": null,
   "id": "6a88f708",
   "metadata": {},
   "outputs": [],
   "source": []
  },
  {
   "cell_type": "code",
   "execution_count": null,
   "id": "59534490",
   "metadata": {},
   "outputs": [],
   "source": []
  },
  {
   "cell_type": "markdown",
   "id": "b5380dbe",
   "metadata": {},
   "source": [
    "# Vestigal: record of training on neuropythy images"
   ]
  },
  {
   "cell_type": "code",
   "execution_count": 37,
   "id": "e924c55d",
   "metadata": {},
   "outputs": [],
   "source": [
    "# set appropriate (three-channel (rgb)) dataloaders for transfer cnn\n",
    "dataloaders = {'train': trainl_rgb, 'val': testl_rgb}\n",
    "dataset_sizes = {'train': ntrain, 'val': ntest}"
   ]
  },
  {
   "cell_type": "code",
   "execution_count": 38,
   "id": "b7b9ab90",
   "metadata": {},
   "outputs": [
    {
     "data": {
      "text/plain": [
       "199"
      ]
     },
     "execution_count": 38,
     "metadata": {},
     "output_type": "execute_result"
    }
   ],
   "source": [
    "# easiest\n",
    "len(dataloaders['val'].dataset.indices)"
   ]
  },
  {
   "cell_type": "code",
   "execution_count": 39,
   "id": "64879590",
   "metadata": {},
   "outputs": [],
   "source": [
    "dataset_sizes = {}\n",
    "for phase, dl in dataloaders.items():\n",
    "    dataset_sizes[phase] = len(dl.dataset.indices)"
   ]
  },
  {
   "cell_type": "code",
   "execution_count": 40,
   "id": "ad1514e3",
   "metadata": {},
   "outputs": [],
   "source": [
    "dataset_sizes = {phase: len(dl.dataset.indices) for phase, dl in dataloaders.items()}"
   ]
  },
  {
   "cell_type": "code",
   "execution_count": 41,
   "id": "26a0b690",
   "metadata": {
    "scrolled": true
   },
   "outputs": [
    {
     "data": {
      "text/plain": [
       "{'train': 1798, 'val': 199}"
      ]
     },
     "execution_count": 41,
     "metadata": {},
     "output_type": "execute_result"
    }
   ],
   "source": [
    "dataset_sizes"
   ]
  },
  {
   "cell_type": "code",
   "execution_count": 18,
   "id": "f51bdabf",
   "metadata": {},
   "outputs": [],
   "source": [
    "def train_model(model, criterion, optimizer, dataloaders, scheduler, num_epochs=25):\n",
    "\n",
    "    since = time.time()\n",
    "\n",
    "    dataset_sizes = {phase: len(dl.dataset.indices) for phase, dl in dataloaders.items()}\n",
    "    best_model_wts = copy.deepcopy(model.state_dict())\n",
    "    best_acc = 0.0\n",
    "    \n",
    "    train_accs = []\n",
    "    val_accs = []\n",
    "\n",
    "    for epoch in range(num_epochs):\n",
    "        print('Epoch {}/{}'.format(epoch, num_epochs - 1))\n",
    "        print('-' * 10)\n",
    "\n",
    "        # Each epoch has a training and validation phase\n",
    "        for phase in ['train', 'val']:\n",
    "            if phase == 'train':\n",
    "                model.train()  # Set model to training mode\n",
    "            else:\n",
    "                model.eval()   # Set model to evaluate mode\n",
    "\n",
    "            running_loss = 0.0\n",
    "            running_corrects = 0\n",
    "\n",
    "            # Iterate over data.\n",
    "            for inputs, labels in dataloaders[phase]:\n",
    "                inputs = inputs.to(device)\n",
    "                labels = labels.to(device)\n",
    "\n",
    "                # zero the parameter gradients\n",
    "                optimizer.zero_grad()\n",
    "\n",
    "                # forward\n",
    "                # track history if only in train\n",
    "                with torch.set_grad_enabled(phase == 'train'):\n",
    "                    outputs = model(inputs)\n",
    "                    _, preds = torch.max(outputs, 1)\n",
    "                    loss = criterion(outputs, labels)\n",
    "\n",
    "                    # backward + optimize only if in training phase\n",
    "                    if phase == 'train':\n",
    "                        loss.backward()\n",
    "                        optimizer.step()\n",
    "\n",
    "                # statistics\n",
    "                running_loss += loss.item() * inputs.size(0)\n",
    "                running_corrects += torch.sum(preds == labels.data)\n",
    "            if phase == 'train':\n",
    "                scheduler.step()\n",
    "\n",
    "            epoch_loss = running_loss / dataset_sizes[phase]\n",
    "            epoch_acc = running_corrects.double() / dataset_sizes[phase]\n",
    "            \n",
    "            if phase == 'train':\n",
    "                train_accs.append(epoch_acc)\n",
    "            else:\n",
    "                val_accs.append(epoch_acc)\n",
    "                \n",
    "\n",
    "            print('{} Loss: {:.4f} Acc: {:.4f}'.format(\n",
    "                phase, epoch_loss, epoch_acc))\n",
    "\n",
    "            # deep copy the model\n",
    "            if phase == 'val' and epoch_acc > best_acc:\n",
    "                best_acc = epoch_acc\n",
    "                best_model_wts = copy.deepcopy(model.state_dict())\n",
    "\n",
    "        print()\n",
    "\n",
    "    time_elapsed = time.time() - since\n",
    "    print('Training complete in {:.0f}m {:.0f}s'.format(\n",
    "        time_elapsed // 60, time_elapsed % 60))\n",
    "    print('Best val Acc: {:4f}'.format(best_acc))\n",
    "\n",
    "    # load best model weights\n",
    "    model.load_state_dict(best_model_wts)\n",
    "    return model, train_accs, val_accs"
   ]
  },
  {
   "cell_type": "code",
   "execution_count": 4,
   "id": "1903d0c1",
   "metadata": {},
   "outputs": [
    {
     "ename": "NameError",
     "evalue": "name 'torch' is not defined",
     "output_type": "error",
     "traceback": [
      "\u001b[0;31m---------------------------------------------------------------------------\u001b[0m",
      "\u001b[0;31mNameError\u001b[0m                                 Traceback (most recent call last)",
      "\u001b[0;32m/tmp/ipykernel_30582/1005770271.py\u001b[0m in \u001b[0;36m<module>\u001b[0;34m\u001b[0m\n\u001b[1;32m      5\u001b[0m \u001b[0;31m# Here the size of each output sample is set to 2.\u001b[0m\u001b[0;34m\u001b[0m\u001b[0;34m\u001b[0m\u001b[0m\n\u001b[1;32m      6\u001b[0m \u001b[0;31m# Alternatively, it can be generalized to nn.Linear(num_ftrs, len(class_names)).\u001b[0m\u001b[0;34m\u001b[0m\u001b[0;34m\u001b[0m\u001b[0m\n\u001b[0;32m----> 7\u001b[0;31m \u001b[0mmodel_ft\u001b[0m\u001b[0;34m.\u001b[0m\u001b[0mfc\u001b[0m \u001b[0;34m=\u001b[0m \u001b[0mtorch\u001b[0m\u001b[0;34m.\u001b[0m\u001b[0mnn\u001b[0m\u001b[0;34m.\u001b[0m\u001b[0mLinear\u001b[0m\u001b[0;34m(\u001b[0m\u001b[0mnum_ftrs\u001b[0m\u001b[0;34m,\u001b[0m \u001b[0;36m2\u001b[0m\u001b[0;34m)\u001b[0m\u001b[0;34m\u001b[0m\u001b[0;34m\u001b[0m\u001b[0m\n\u001b[0m\u001b[1;32m      8\u001b[0m \u001b[0;34m\u001b[0m\u001b[0m\n\u001b[1;32m      9\u001b[0m \u001b[0mmodel_ft\u001b[0m \u001b[0;34m=\u001b[0m \u001b[0mmodel_ft\u001b[0m\u001b[0;34m.\u001b[0m\u001b[0mto\u001b[0m\u001b[0;34m(\u001b[0m\u001b[0mdevice\u001b[0m\u001b[0;34m)\u001b[0m\u001b[0;34m\u001b[0m\u001b[0;34m\u001b[0m\u001b[0m\n",
      "\u001b[0;31mNameError\u001b[0m: name 'torch' is not defined"
     ]
    }
   ],
   "source": [
    "import torchvision.models as models\n",
    "\n",
    "model_ft = models.resnet18(pretrained=True)\n",
    "num_ftrs = model_ft.fc.in_features\n",
    "# Here the size of each output sample is set to 2.\n",
    "# Alternatively, it can be generalized to nn.Linear(num_ftrs, len(class_names)).\n",
    "model_ft.fc = torch.nn.Linear(num_ftrs, 2)\n",
    "\n",
    "model_ft = model_ft.to(device)\n",
    "\n",
    "criterion = nn.CrossEntropyLoss()\n",
    "\n",
    "# Observe that all parameters are being optimized\n",
    "optimizer_ft = optim.SGD(model_ft.parameters(), lr=0.001, momentum=0.9)\n",
    "\n",
    "# Decay LR by a factor of 0.1 every 7 epochs\n",
    "exp_lr_scheduler = lr_scheduler.StepLR(optimizer_ft, step_size=7, gamma=0.1)"
   ]
  },
  {
   "cell_type": "code",
   "execution_count": null,
   "id": "7fea28c5",
   "metadata": {},
   "outputs": [],
   "source": [
    "model_ft = train_model(model_ft, criterion, optimizer_ft, dataloaders, exp_lr_scheduler,\n",
    "                       num_epochs=25)"
   ]
  },
  {
   "cell_type": "code",
   "execution_count": 1,
   "id": "401fdfcc",
   "metadata": {},
   "outputs": [],
   "source": [
    "# summarize\n",
    "from torchsummary import summary"
   ]
  },
  {
   "cell_type": "code",
   "execution_count": 99,
   "id": "434bdff2",
   "metadata": {},
   "outputs": [],
   "source": [
    "xs, ys = next(iter(trainl_rgb)) # easiest way to get a random batch from a dataloader"
   ]
  },
  {
   "cell_type": "code",
   "execution_count": 100,
   "id": "71d107e6",
   "metadata": {},
   "outputs": [
    {
     "data": {
      "text/plain": [
       "torch.Size([8, 3, 400, 400])"
      ]
     },
     "execution_count": 100,
     "metadata": {},
     "output_type": "execute_result"
    }
   ],
   "source": [
    "xs.shape"
   ]
  },
  {
   "cell_type": "code",
   "execution_count": 101,
   "id": "30da3397",
   "metadata": {},
   "outputs": [
    {
     "name": "stdout",
     "output_type": "stream",
     "text": [
      "ResNet(\n",
      "  (conv1): Conv2d(3, 64, kernel_size=(7, 7), stride=(2, 2), padding=(3, 3), bias=False)\n",
      "  (bn1): BatchNorm2d(64, eps=1e-05, momentum=0.1, affine=True, track_running_stats=True)\n",
      "  (relu): ReLU(inplace=True)\n",
      "  (maxpool): MaxPool2d(kernel_size=3, stride=2, padding=1, dilation=1, ceil_mode=False)\n",
      "  (layer1): Sequential(\n",
      "    (0): BasicBlock(\n",
      "      (conv1): Conv2d(64, 64, kernel_size=(3, 3), stride=(1, 1), padding=(1, 1), bias=False)\n",
      "      (bn1): BatchNorm2d(64, eps=1e-05, momentum=0.1, affine=True, track_running_stats=True)\n",
      "      (relu): ReLU(inplace=True)\n",
      "      (conv2): Conv2d(64, 64, kernel_size=(3, 3), stride=(1, 1), padding=(1, 1), bias=False)\n",
      "      (bn2): BatchNorm2d(64, eps=1e-05, momentum=0.1, affine=True, track_running_stats=True)\n",
      "    )\n",
      "    (1): BasicBlock(\n",
      "      (conv1): Conv2d(64, 64, kernel_size=(3, 3), stride=(1, 1), padding=(1, 1), bias=False)\n",
      "      (bn1): BatchNorm2d(64, eps=1e-05, momentum=0.1, affine=True, track_running_stats=True)\n",
      "      (relu): ReLU(inplace=True)\n",
      "      (conv2): Conv2d(64, 64, kernel_size=(3, 3), stride=(1, 1), padding=(1, 1), bias=False)\n",
      "      (bn2): BatchNorm2d(64, eps=1e-05, momentum=0.1, affine=True, track_running_stats=True)\n",
      "    )\n",
      "  )\n",
      "  (layer2): Sequential(\n",
      "    (0): BasicBlock(\n",
      "      (conv1): Conv2d(64, 128, kernel_size=(3, 3), stride=(2, 2), padding=(1, 1), bias=False)\n",
      "      (bn1): BatchNorm2d(128, eps=1e-05, momentum=0.1, affine=True, track_running_stats=True)\n",
      "      (relu): ReLU(inplace=True)\n",
      "      (conv2): Conv2d(128, 128, kernel_size=(3, 3), stride=(1, 1), padding=(1, 1), bias=False)\n",
      "      (bn2): BatchNorm2d(128, eps=1e-05, momentum=0.1, affine=True, track_running_stats=True)\n",
      "      (downsample): Sequential(\n",
      "        (0): Conv2d(64, 128, kernel_size=(1, 1), stride=(2, 2), bias=False)\n",
      "        (1): BatchNorm2d(128, eps=1e-05, momentum=0.1, affine=True, track_running_stats=True)\n",
      "      )\n",
      "    )\n",
      "    (1): BasicBlock(\n",
      "      (conv1): Conv2d(128, 128, kernel_size=(3, 3), stride=(1, 1), padding=(1, 1), bias=False)\n",
      "      (bn1): BatchNorm2d(128, eps=1e-05, momentum=0.1, affine=True, track_running_stats=True)\n",
      "      (relu): ReLU(inplace=True)\n",
      "      (conv2): Conv2d(128, 128, kernel_size=(3, 3), stride=(1, 1), padding=(1, 1), bias=False)\n",
      "      (bn2): BatchNorm2d(128, eps=1e-05, momentum=0.1, affine=True, track_running_stats=True)\n",
      "    )\n",
      "  )\n",
      "  (layer3): Sequential(\n",
      "    (0): BasicBlock(\n",
      "      (conv1): Conv2d(128, 256, kernel_size=(3, 3), stride=(2, 2), padding=(1, 1), bias=False)\n",
      "      (bn1): BatchNorm2d(256, eps=1e-05, momentum=0.1, affine=True, track_running_stats=True)\n",
      "      (relu): ReLU(inplace=True)\n",
      "      (conv2): Conv2d(256, 256, kernel_size=(3, 3), stride=(1, 1), padding=(1, 1), bias=False)\n",
      "      (bn2): BatchNorm2d(256, eps=1e-05, momentum=0.1, affine=True, track_running_stats=True)\n",
      "      (downsample): Sequential(\n",
      "        (0): Conv2d(128, 256, kernel_size=(1, 1), stride=(2, 2), bias=False)\n",
      "        (1): BatchNorm2d(256, eps=1e-05, momentum=0.1, affine=True, track_running_stats=True)\n",
      "      )\n",
      "    )\n",
      "    (1): BasicBlock(\n",
      "      (conv1): Conv2d(256, 256, kernel_size=(3, 3), stride=(1, 1), padding=(1, 1), bias=False)\n",
      "      (bn1): BatchNorm2d(256, eps=1e-05, momentum=0.1, affine=True, track_running_stats=True)\n",
      "      (relu): ReLU(inplace=True)\n",
      "      (conv2): Conv2d(256, 256, kernel_size=(3, 3), stride=(1, 1), padding=(1, 1), bias=False)\n",
      "      (bn2): BatchNorm2d(256, eps=1e-05, momentum=0.1, affine=True, track_running_stats=True)\n",
      "    )\n",
      "  )\n",
      "  (layer4): Sequential(\n",
      "    (0): BasicBlock(\n",
      "      (conv1): Conv2d(256, 512, kernel_size=(3, 3), stride=(2, 2), padding=(1, 1), bias=False)\n",
      "      (bn1): BatchNorm2d(512, eps=1e-05, momentum=0.1, affine=True, track_running_stats=True)\n",
      "      (relu): ReLU(inplace=True)\n",
      "      (conv2): Conv2d(512, 512, kernel_size=(3, 3), stride=(1, 1), padding=(1, 1), bias=False)\n",
      "      (bn2): BatchNorm2d(512, eps=1e-05, momentum=0.1, affine=True, track_running_stats=True)\n",
      "      (downsample): Sequential(\n",
      "        (0): Conv2d(256, 512, kernel_size=(1, 1), stride=(2, 2), bias=False)\n",
      "        (1): BatchNorm2d(512, eps=1e-05, momentum=0.1, affine=True, track_running_stats=True)\n",
      "      )\n",
      "    )\n",
      "    (1): BasicBlock(\n",
      "      (conv1): Conv2d(512, 512, kernel_size=(3, 3), stride=(1, 1), padding=(1, 1), bias=False)\n",
      "      (bn1): BatchNorm2d(512, eps=1e-05, momentum=0.1, affine=True, track_running_stats=True)\n",
      "      (relu): ReLU(inplace=True)\n",
      "      (conv2): Conv2d(512, 512, kernel_size=(3, 3), stride=(1, 1), padding=(1, 1), bias=False)\n",
      "      (bn2): BatchNorm2d(512, eps=1e-05, momentum=0.1, affine=True, track_running_stats=True)\n",
      "    )\n",
      "  )\n",
      "  (avgpool): AdaptiveAvgPool2d(output_size=(1, 1))\n",
      "  (fc): Linear(in_features=512, out_features=2, bias=True)\n",
      ")\n"
     ]
    }
   ],
   "source": [
    "print(model_ft)"
   ]
  },
  {
   "cell_type": "code",
   "execution_count": 102,
   "id": "f201b5c6",
   "metadata": {},
   "outputs": [
    {
     "name": "stdout",
     "output_type": "stream",
     "text": [
      "----------------------------------------------------------------\n",
      "        Layer (type)               Output Shape         Param #\n",
      "================================================================\n",
      "            Conv2d-1         [-1, 64, 200, 200]           9,408\n",
      "       BatchNorm2d-2         [-1, 64, 200, 200]             128\n",
      "              ReLU-3         [-1, 64, 200, 200]               0\n",
      "         MaxPool2d-4         [-1, 64, 100, 100]               0\n",
      "            Conv2d-5         [-1, 64, 100, 100]          36,864\n",
      "       BatchNorm2d-6         [-1, 64, 100, 100]             128\n",
      "              ReLU-7         [-1, 64, 100, 100]               0\n",
      "            Conv2d-8         [-1, 64, 100, 100]          36,864\n",
      "       BatchNorm2d-9         [-1, 64, 100, 100]             128\n",
      "             ReLU-10         [-1, 64, 100, 100]               0\n",
      "       BasicBlock-11         [-1, 64, 100, 100]               0\n",
      "           Conv2d-12         [-1, 64, 100, 100]          36,864\n",
      "      BatchNorm2d-13         [-1, 64, 100, 100]             128\n",
      "             ReLU-14         [-1, 64, 100, 100]               0\n",
      "           Conv2d-15         [-1, 64, 100, 100]          36,864\n",
      "      BatchNorm2d-16         [-1, 64, 100, 100]             128\n",
      "             ReLU-17         [-1, 64, 100, 100]               0\n",
      "       BasicBlock-18         [-1, 64, 100, 100]               0\n",
      "           Conv2d-19          [-1, 128, 50, 50]          73,728\n",
      "      BatchNorm2d-20          [-1, 128, 50, 50]             256\n",
      "             ReLU-21          [-1, 128, 50, 50]               0\n",
      "           Conv2d-22          [-1, 128, 50, 50]         147,456\n",
      "      BatchNorm2d-23          [-1, 128, 50, 50]             256\n",
      "           Conv2d-24          [-1, 128, 50, 50]           8,192\n",
      "      BatchNorm2d-25          [-1, 128, 50, 50]             256\n",
      "             ReLU-26          [-1, 128, 50, 50]               0\n",
      "       BasicBlock-27          [-1, 128, 50, 50]               0\n",
      "           Conv2d-28          [-1, 128, 50, 50]         147,456\n",
      "      BatchNorm2d-29          [-1, 128, 50, 50]             256\n",
      "             ReLU-30          [-1, 128, 50, 50]               0\n",
      "           Conv2d-31          [-1, 128, 50, 50]         147,456\n",
      "      BatchNorm2d-32          [-1, 128, 50, 50]             256\n",
      "             ReLU-33          [-1, 128, 50, 50]               0\n",
      "       BasicBlock-34          [-1, 128, 50, 50]               0\n",
      "           Conv2d-35          [-1, 256, 25, 25]         294,912\n",
      "      BatchNorm2d-36          [-1, 256, 25, 25]             512\n",
      "             ReLU-37          [-1, 256, 25, 25]               0\n",
      "           Conv2d-38          [-1, 256, 25, 25]         589,824\n",
      "      BatchNorm2d-39          [-1, 256, 25, 25]             512\n",
      "           Conv2d-40          [-1, 256, 25, 25]          32,768\n",
      "      BatchNorm2d-41          [-1, 256, 25, 25]             512\n",
      "             ReLU-42          [-1, 256, 25, 25]               0\n",
      "       BasicBlock-43          [-1, 256, 25, 25]               0\n",
      "           Conv2d-44          [-1, 256, 25, 25]         589,824\n",
      "      BatchNorm2d-45          [-1, 256, 25, 25]             512\n",
      "             ReLU-46          [-1, 256, 25, 25]               0\n",
      "           Conv2d-47          [-1, 256, 25, 25]         589,824\n",
      "      BatchNorm2d-48          [-1, 256, 25, 25]             512\n",
      "             ReLU-49          [-1, 256, 25, 25]               0\n",
      "       BasicBlock-50          [-1, 256, 25, 25]               0\n",
      "           Conv2d-51          [-1, 512, 13, 13]       1,179,648\n",
      "      BatchNorm2d-52          [-1, 512, 13, 13]           1,024\n",
      "             ReLU-53          [-1, 512, 13, 13]               0\n",
      "           Conv2d-54          [-1, 512, 13, 13]       2,359,296\n",
      "      BatchNorm2d-55          [-1, 512, 13, 13]           1,024\n",
      "           Conv2d-56          [-1, 512, 13, 13]         131,072\n",
      "      BatchNorm2d-57          [-1, 512, 13, 13]           1,024\n",
      "             ReLU-58          [-1, 512, 13, 13]               0\n",
      "       BasicBlock-59          [-1, 512, 13, 13]               0\n",
      "           Conv2d-60          [-1, 512, 13, 13]       2,359,296\n",
      "      BatchNorm2d-61          [-1, 512, 13, 13]           1,024\n",
      "             ReLU-62          [-1, 512, 13, 13]               0\n",
      "           Conv2d-63          [-1, 512, 13, 13]       2,359,296\n",
      "      BatchNorm2d-64          [-1, 512, 13, 13]           1,024\n",
      "             ReLU-65          [-1, 512, 13, 13]               0\n",
      "       BasicBlock-66          [-1, 512, 13, 13]               0\n",
      "AdaptiveAvgPool2d-67            [-1, 512, 1, 1]               0\n",
      "           Linear-68                    [-1, 2]           1,026\n",
      "================================================================\n",
      "Total params: 11,177,538\n",
      "Trainable params: 11,177,538\n",
      "Non-trainable params: 0\n",
      "----------------------------------------------------------------\n",
      "Input size (MB): 1.83\n",
      "Forward/backward pass size (MB): 201.00\n",
      "Params size (MB): 42.64\n",
      "Estimated Total Size (MB): 245.47\n",
      "----------------------------------------------------------------\n"
     ]
    }
   ],
   "source": [
    "summary(model_ft, (3, 400, 400)) # do not include batch dimension when specifying input size"
   ]
  },
  {
   "cell_type": "markdown",
   "id": "800b3e54",
   "metadata": {},
   "source": [
    "## TO DO: Grid search over training hyperparameters"
   ]
  },
  {
   "cell_type": "code",
   "execution_count": 24,
   "id": "b828a1ce",
   "metadata": {},
   "outputs": [],
   "source": [
    "lrs = [0.1, 0.01, 1e-3, 1e-4, 5e-5]\n",
    "batch_sizes = [4, 8, 16, 32, 64]"
   ]
  },
  {
   "cell_type": "markdown",
   "id": "ac27e57d",
   "metadata": {},
   "source": [
    "## v2. cnn from scratch"
   ]
  },
  {
   "cell_type": "code",
   "execution_count": 19,
   "id": "30da6397",
   "metadata": {},
   "outputs": [],
   "source": [
    "class ConvNet(nn.Module):\n",
    "    def __init__(self):\n",
    "        super().__init__()\n",
    "        self.l1 = nn.Conv2d(1, 4, 4, padding='same')\n",
    "        self.l2 = nn.Conv2d(4, 16, 4, padding='same')\n",
    "        self.m1 = nn.MaxPool2d(4, stride=2)\n",
    "        self.l3 = nn.Conv2d(16, 64, 4, padding='same')\n",
    "        self.l4 = nn.Conv2d(64, 128, 4, padding='same')\n",
    "        self.m2 = nn.MaxPool2d(4, stride=2)\n",
    "        self.l5 = nn.Conv2d(128, 128, 4, padding='same')\n",
    "        self.l6 = nn.Conv2d(128, 64, 4, padding='same')\n",
    "        self.m3 = nn.MaxPool2d(4, stride=2)\n",
    "        self.l7 = nn.Conv2d(64, 32, 4, padding='same')\n",
    "        self.l8 = nn.Conv2d(32, 32, 4, padding='same')\n",
    "        self.l9 = nn.Conv2d(32, 32, 4, padding='same')\n",
    "        self.m4 = nn.MaxPool2d(4, stride=2)\n",
    "        self.l10 = nn.Conv2d(32, 32, 4, padding='same')\n",
    "        self.l11 = nn.Conv2d(32, 32, 4, padding='same')\n",
    "        self.l12 = nn.Conv2d(32, 32, 4, padding='same')\n",
    "        self.m5 = nn.MaxPool2d(4, stride=2)\n",
    "        self.fc1 = nn.Linear(32*10*10, 100)\n",
    "        self.fc2 = nn.Linear(100, 2)\n",
    "        \n",
    "    def forward(self, x):\n",
    "        x = F.relu(self.l1(x))\n",
    "        x = F.relu(self.l2(x)) \n",
    "        x = self.m1(x) \n",
    "        x = F.relu(self.l3(x)) \n",
    "        x = F.relu(self.l4(x)) \n",
    "        x = self.m2(x) \n",
    "        x = F.relu(self.l5(x))\n",
    "        x = F.relu(self.l6(x)) \n",
    "        x = self.m3(x) \n",
    "        x = F.relu(self.l7(x)) \n",
    "        x = F.relu(self.l8(x)) \n",
    "        x = F.relu(self.l9(x)) \n",
    "        x = self.m4(x) \n",
    "        x = F.relu(self.l10(x))\n",
    "        x = F.relu(self.l11(x))\n",
    "        x = F.relu(self.l12(x))\n",
    "        x = self.m5(x)\n",
    "        x = torch.flatten(x, 1) # do not flatten batch dimensions\n",
    "        x = F.relu(self.fc1(x))\n",
    "        x = self.fc2(x)\n",
    "        return x"
   ]
  },
  {
   "cell_type": "code",
   "execution_count": 21,
   "id": "2e8238d7",
   "metadata": {},
   "outputs": [],
   "source": [
    "cnn = ConvNet()\n",
    "criterion = nn.CrossEntropyLoss()\n",
    "optimizer = optim.SGD(cnn.parameters(), lr=0.001, momentum=0.9)"
   ]
  },
  {
   "cell_type": "code",
   "execution_count": 22,
   "id": "5c4086b8",
   "metadata": {},
   "outputs": [],
   "source": [
    "from torchsummary import summary"
   ]
  },
  {
   "cell_type": "code",
   "execution_count": 23,
   "id": "8f144ef9",
   "metadata": {},
   "outputs": [
    {
     "ename": "RuntimeError",
     "evalue": "CUDA error: all CUDA-capable devices are busy or unavailable\nCUDA kernel errors might be asynchronously reported at some other API call,so the stacktrace below might be incorrect.\nFor debugging consider passing CUDA_LAUNCH_BLOCKING=1.",
     "output_type": "error",
     "traceback": [
      "\u001b[0;31m---------------------------------------------------------------------------\u001b[0m",
      "\u001b[0;31mRuntimeError\u001b[0m                              Traceback (most recent call last)",
      "\u001b[0;32m/tmp/ipykernel_188233/2685342314.py\u001b[0m in \u001b[0;36m<module>\u001b[0;34m\u001b[0m\n\u001b[0;32m----> 1\u001b[0;31m \u001b[0msummary\u001b[0m\u001b[0;34m(\u001b[0m\u001b[0mcnn\u001b[0m\u001b[0;34m,\u001b[0m \u001b[0;34m(\u001b[0m\u001b[0;36m1\u001b[0m\u001b[0;34m,\u001b[0m \u001b[0;36m400\u001b[0m\u001b[0;34m,\u001b[0m \u001b[0;36m400\u001b[0m\u001b[0;34m)\u001b[0m\u001b[0;34m)\u001b[0m\u001b[0;34m\u001b[0m\u001b[0;34m\u001b[0m\u001b[0m\n\u001b[0m",
      "\u001b[0;32m/home/groups/jyeatman/software/anaconda3/envs/torch-ni-ny/lib/python3.9/site-packages/torchsummary/torchsummary.py\u001b[0m in \u001b[0;36msummary\u001b[0;34m(model, input_size, batch_size, device)\u001b[0m\n\u001b[1;32m     58\u001b[0m \u001b[0;34m\u001b[0m\u001b[0m\n\u001b[1;32m     59\u001b[0m     \u001b[0;31m# batch_size of 2 for batchnorm\u001b[0m\u001b[0;34m\u001b[0m\u001b[0;34m\u001b[0m\u001b[0m\n\u001b[0;32m---> 60\u001b[0;31m     \u001b[0mx\u001b[0m \u001b[0;34m=\u001b[0m \u001b[0;34m[\u001b[0m\u001b[0mtorch\u001b[0m\u001b[0;34m.\u001b[0m\u001b[0mrand\u001b[0m\u001b[0;34m(\u001b[0m\u001b[0;36m2\u001b[0m\u001b[0;34m,\u001b[0m \u001b[0;34m*\u001b[0m\u001b[0min_size\u001b[0m\u001b[0;34m)\u001b[0m\u001b[0;34m.\u001b[0m\u001b[0mtype\u001b[0m\u001b[0;34m(\u001b[0m\u001b[0mdtype\u001b[0m\u001b[0;34m)\u001b[0m \u001b[0;32mfor\u001b[0m \u001b[0min_size\u001b[0m \u001b[0;32min\u001b[0m \u001b[0minput_size\u001b[0m\u001b[0;34m]\u001b[0m\u001b[0;34m\u001b[0m\u001b[0;34m\u001b[0m\u001b[0m\n\u001b[0m\u001b[1;32m     61\u001b[0m     \u001b[0;31m# print(type(x[0]))\u001b[0m\u001b[0;34m\u001b[0m\u001b[0;34m\u001b[0m\u001b[0m\n\u001b[1;32m     62\u001b[0m \u001b[0;34m\u001b[0m\u001b[0m\n",
      "\u001b[0;32m/home/groups/jyeatman/software/anaconda3/envs/torch-ni-ny/lib/python3.9/site-packages/torchsummary/torchsummary.py\u001b[0m in \u001b[0;36m<listcomp>\u001b[0;34m(.0)\u001b[0m\n\u001b[1;32m     58\u001b[0m \u001b[0;34m\u001b[0m\u001b[0m\n\u001b[1;32m     59\u001b[0m     \u001b[0;31m# batch_size of 2 for batchnorm\u001b[0m\u001b[0;34m\u001b[0m\u001b[0;34m\u001b[0m\u001b[0m\n\u001b[0;32m---> 60\u001b[0;31m     \u001b[0mx\u001b[0m \u001b[0;34m=\u001b[0m \u001b[0;34m[\u001b[0m\u001b[0mtorch\u001b[0m\u001b[0;34m.\u001b[0m\u001b[0mrand\u001b[0m\u001b[0;34m(\u001b[0m\u001b[0;36m2\u001b[0m\u001b[0;34m,\u001b[0m \u001b[0;34m*\u001b[0m\u001b[0min_size\u001b[0m\u001b[0;34m)\u001b[0m\u001b[0;34m.\u001b[0m\u001b[0mtype\u001b[0m\u001b[0;34m(\u001b[0m\u001b[0mdtype\u001b[0m\u001b[0;34m)\u001b[0m \u001b[0;32mfor\u001b[0m \u001b[0min_size\u001b[0m \u001b[0;32min\u001b[0m \u001b[0minput_size\u001b[0m\u001b[0;34m]\u001b[0m\u001b[0;34m\u001b[0m\u001b[0;34m\u001b[0m\u001b[0m\n\u001b[0m\u001b[1;32m     61\u001b[0m     \u001b[0;31m# print(type(x[0]))\u001b[0m\u001b[0;34m\u001b[0m\u001b[0;34m\u001b[0m\u001b[0m\n\u001b[1;32m     62\u001b[0m \u001b[0;34m\u001b[0m\u001b[0m\n",
      "\u001b[0;31mRuntimeError\u001b[0m: CUDA error: all CUDA-capable devices are busy or unavailable\nCUDA kernel errors might be asynchronously reported at some other API call,so the stacktrace below might be incorrect.\nFor debugging consider passing CUDA_LAUNCH_BLOCKING=1."
     ]
    }
   ],
   "source": [
    "summary(cnn, (1, 400, 400))"
   ]
  },
  {
   "cell_type": "code",
   "execution_count": 108,
   "id": "94df22cd",
   "metadata": {},
   "outputs": [],
   "source": [
    "cnn = cnn.to(device) # required before using train function; should change?"
   ]
  },
  {
   "cell_type": "code",
   "execution_count": 112,
   "id": "9b14cf3a",
   "metadata": {},
   "outputs": [],
   "source": [
    "xtest, ytest = next(iter(trainloader))"
   ]
  },
  {
   "cell_type": "code",
   "execution_count": 114,
   "id": "fd4dd3b5",
   "metadata": {},
   "outputs": [
    {
     "data": {
      "text/plain": [
       "tensor([[-0.1394,  0.0894],\n",
       "        [-0.1395,  0.0894],\n",
       "        [-0.1391,  0.0891],\n",
       "        [-0.1393,  0.0894],\n",
       "        [-0.1389,  0.0892],\n",
       "        [-0.1393,  0.0899],\n",
       "        [-0.1394,  0.0890],\n",
       "        [-0.1389,  0.0894]], device='cuda:0', grad_fn=<AddmmBackward0>)"
      ]
     },
     "execution_count": 114,
     "metadata": {},
     "output_type": "execute_result"
    }
   ],
   "source": [
    "# sanity check\n",
    "cnn(xtest.to(device))"
   ]
  },
  {
   "cell_type": "code",
   "execution_count": 115,
   "id": "ca607a1d",
   "metadata": {},
   "outputs": [
    {
     "data": {
      "text/plain": [
       "torch.Size([8, 1, 400, 400])"
      ]
     },
     "execution_count": 115,
     "metadata": {},
     "output_type": "execute_result"
    }
   ],
   "source": [
    "xtest.shape"
   ]
  },
  {
   "cell_type": "code",
   "execution_count": 95,
   "id": "6f40a214",
   "metadata": {},
   "outputs": [],
   "source": [
    "dataloaders_gray = {'train': trainloader, 'val': testloader}"
   ]
  },
  {
   "cell_type": "code",
   "execution_count": 126,
   "id": "d045ac74",
   "metadata": {},
   "outputs": [
    {
     "name": "stdout",
     "output_type": "stream",
     "text": [
      "Epoch 0/24\n",
      "----------\n",
      "train Loss: 0.4042 Acc: 0.8721\n",
      "val Loss: 0.3682 Acc: 0.8794\n",
      "\n",
      "Epoch 1/24\n",
      "----------\n",
      "train Loss: 0.3842 Acc: 0.8721\n",
      "val Loss: 0.3695 Acc: 0.8794\n",
      "\n",
      "Epoch 2/24\n",
      "----------\n",
      "train Loss: 0.3832 Acc: 0.8721\n",
      "val Loss: 0.3713 Acc: 0.8794\n",
      "\n",
      "Epoch 3/24\n",
      "----------\n",
      "train Loss: 0.3840 Acc: 0.8721\n",
      "val Loss: 0.3714 Acc: 0.8794\n",
      "\n",
      "Epoch 4/24\n",
      "----------\n",
      "train Loss: 0.3817 Acc: 0.8721\n",
      "val Loss: 0.3691 Acc: 0.8794\n",
      "\n",
      "Epoch 5/24\n",
      "----------\n",
      "train Loss: 0.3831 Acc: 0.8721\n",
      "val Loss: 0.3686 Acc: 0.8794\n",
      "\n",
      "Epoch 6/24\n",
      "----------\n",
      "train Loss: 0.3836 Acc: 0.8721\n",
      "val Loss: 0.3682 Acc: 0.8794\n",
      "\n",
      "Epoch 7/24\n",
      "----------\n",
      "train Loss: 0.3837 Acc: 0.8721\n",
      "val Loss: 0.3683 Acc: 0.8794\n",
      "\n",
      "Epoch 8/24\n",
      "----------\n",
      "train Loss: 0.3839 Acc: 0.8721\n",
      "val Loss: 0.3705 Acc: 0.8794\n",
      "\n",
      "Epoch 9/24\n",
      "----------\n",
      "train Loss: 0.3833 Acc: 0.8721\n",
      "val Loss: 0.3682 Acc: 0.8794\n",
      "\n",
      "Epoch 10/24\n",
      "----------\n",
      "train Loss: 0.3838 Acc: 0.8721\n",
      "val Loss: 0.3682 Acc: 0.8794\n",
      "\n",
      "Epoch 11/24\n",
      "----------\n",
      "train Loss: 0.3834 Acc: 0.8721\n",
      "val Loss: 0.3687 Acc: 0.8794\n",
      "\n",
      "Epoch 12/24\n",
      "----------\n",
      "train Loss: 0.3830 Acc: 0.8721\n",
      "val Loss: 0.3683 Acc: 0.8794\n",
      "\n",
      "Epoch 13/24\n",
      "----------\n",
      "train Loss: 0.3839 Acc: 0.8721\n",
      "val Loss: 0.3690 Acc: 0.8794\n",
      "\n",
      "Epoch 14/24\n",
      "----------\n",
      "train Loss: 0.3832 Acc: 0.8721\n",
      "val Loss: 0.3684 Acc: 0.8794\n",
      "\n",
      "Epoch 15/24\n",
      "----------\n",
      "train Loss: 0.3829 Acc: 0.8721\n",
      "val Loss: 0.3704 Acc: 0.8794\n",
      "\n",
      "Epoch 16/24\n",
      "----------\n",
      "train Loss: 0.3821 Acc: 0.8721\n",
      "val Loss: 0.3737 Acc: 0.8794\n",
      "\n",
      "Epoch 17/24\n",
      "----------\n",
      "train Loss: 0.3839 Acc: 0.8721\n",
      "val Loss: 0.3686 Acc: 0.8794\n",
      "\n",
      "Epoch 18/24\n",
      "----------\n",
      "train Loss: 0.3830 Acc: 0.8721\n",
      "val Loss: 0.3709 Acc: 0.8794\n",
      "\n",
      "Epoch 19/24\n",
      "----------\n",
      "train Loss: 0.3838 Acc: 0.8721\n",
      "val Loss: 0.3712 Acc: 0.8794\n",
      "\n",
      "Epoch 20/24\n",
      "----------\n",
      "train Loss: 0.3837 Acc: 0.8721\n",
      "val Loss: 0.3693 Acc: 0.8794\n",
      "\n",
      "Epoch 21/24\n",
      "----------\n",
      "train Loss: 0.3829 Acc: 0.8721\n",
      "val Loss: 0.3689 Acc: 0.8794\n",
      "\n",
      "Epoch 22/24\n",
      "----------\n",
      "train Loss: 0.3836 Acc: 0.8721\n",
      "val Loss: 0.3695 Acc: 0.8794\n",
      "\n",
      "Epoch 23/24\n",
      "----------\n",
      "train Loss: 0.3832 Acc: 0.8721\n",
      "val Loss: 0.3703 Acc: 0.8794\n",
      "\n",
      "Epoch 24/24\n",
      "----------\n",
      "train Loss: 0.3832 Acc: 0.8721\n",
      "val Loss: 0.3683 Acc: 0.8794\n",
      "\n",
      "Training complete in 5m 8s\n",
      "Best val Acc: 0.879397\n"
     ]
    }
   ],
   "source": [
    "cnn_ft, train_accs, val_accs = train_model(cnn, criterion, optimizer, dataloaders_gray, exp_lr_scheduler, num_epochs=25)"
   ]
  }
 ],
 "metadata": {
  "kernelspec": {
   "display_name": "Python [conda env:torch-ni-ny]",
   "language": "python",
   "name": "conda-env-torch-ni-ny-py"
  },
  "language_info": {
   "codemirror_mode": {
    "name": "ipython",
    "version": 3
   },
   "file_extension": ".py",
   "mimetype": "text/x-python",
   "name": "python",
   "nbconvert_exporter": "python",
   "pygments_lexer": "ipython3",
   "version": "3.9.7"
  }
 },
 "nbformat": 4,
 "nbformat_minor": 5
}

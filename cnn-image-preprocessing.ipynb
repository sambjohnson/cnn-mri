{
 "cells": [
  {
   "cell_type": "markdown",
   "id": "3a27415e",
   "metadata": {},
   "source": [
    "# Image preprocessing (.sphere images)\n",
    "\n",
    "- rescale (downsample)\n",
    "- crop  \n",
    "  - crop is unnecessary for .inflated, but .sphere aspect images should be square for tight boundaries\n",
    "- convert to grayscale"
   ]
  },
  {
   "cell_type": "code",
   "execution_count": 28,
   "id": "8c32cdb1",
   "metadata": {},
   "outputs": [],
   "source": [
    "# import .png\n",
    "import os\n",
    "import sys\n",
    "\n",
    "from PIL import Image\n",
    "from PIL import ImageOps"
   ]
  },
  {
   "cell_type": "code",
   "execution_count": 29,
   "id": "4a57d4ea",
   "metadata": {},
   "outputs": [],
   "source": [
    "proj_dir = '/scratch/groups/jyeatman/samjohns-projects'\n",
    "image_in_subdir = '/data/fsa-data/images/images-thickness-sphere'\n",
    "image_out_subdir = '/data/fsa-data/images/images-thickness-sphere-processed'\n",
    "image_in_dir = proj_dir + image_in_subdir\n",
    "image_out_dir = proj_dir + image_out_subdir\n",
    "os.chdir(proj_dir)"
   ]
  },
  {
   "cell_type": "code",
   "execution_count": 32,
   "id": "f25c988e",
   "metadata": {},
   "outputs": [],
   "source": [
    "images = os.listdir(image_in_dir)\n",
    "im0_path = image_in_dir + '/' + images[0]\n",
    "im0 = Image.open(im0_path)"
   ]
  },
  {
   "cell_type": "code",
   "execution_count": 33,
   "id": "615bc66f",
   "metadata": {},
   "outputs": [],
   "source": [
    "if not os.path.exists(image_out_dir):\n",
    "    os.makedirs(image_out_dir)"
   ]
  },
  {
   "cell_type": "code",
   "execution_count": 34,
   "id": "ff99a876",
   "metadata": {},
   "outputs": [],
   "source": [
    "# same parameters for all images\n",
    "def crop(image, x0=None, y0=None):\n",
    "    # default parameters specific to freeview .sphere default outputs\n",
    "    if x0 is None:\n",
    "        x0 = 889\n",
    "    if y0 is None:\n",
    "        y0 = 552\n",
    "        \n",
    "    diff = (x0 - y0) / 2\n",
    "    xl, xr = diff, x0 - diff\n",
    "    ltrb = (xl, 0, xr, y0)\n",
    "    return image.crop(ltrb)\n",
    "\n",
    "def resize(image, newsize=200):\n",
    "    return image.resize((newsize, newsize))\n",
    "\n",
    "def process(image, x0=None, y0=None, newsize=200, grayscale=True):\n",
    "    \"\"\"Crops image, resizes, and converts to grayscale.\"\"\"\n",
    "    image = crop(image, x0, y0)\n",
    "    image = resize(image, newsize)\n",
    "    if grayscale:\n",
    "        image = ImageOps.grayscale(image)\n",
    "    return image"
   ]
  },
  {
   "cell_type": "code",
   "execution_count": 35,
   "id": "2e60f95e",
   "metadata": {},
   "outputs": [
    {
     "name": "stdout",
     "output_type": "stream",
     "text": [
      "Processed 0 images...\n",
      "Processed 1000 images...\n",
      "Processed 2000 images...\n",
      "Processed 3000 images...\n",
      "Processed 4000 images...\n",
      "Processed 5000 images...\n",
      "Processed 6000 images...\n",
      "Processed 7000 images...\n",
      "Processed 8000 images...\n",
      "Processed 9000 images...\n",
      "Processed 10000 images...\n",
      "Processed 11000 images...\n",
      "Processed 12000 images...\n",
      "Processed 13000 images...\n",
      "Processed 14000 images...\n",
      "Processed 15000 images...\n",
      "Processed 16000 images...\n",
      "Processed 17000 images...\n",
      "Processed 18000 images...\n",
      "Processed 19000 images...\n",
      "Processed 20000 images...\n",
      "Processed 21000 images...\n",
      "Processed 22000 images...\n",
      "Processed 23000 images...\n"
     ]
    }
   ],
   "source": [
    "for i, imgname in enumerate(images):\n",
    "    img = Image.open(image_in_dir + '/' + imgname)\n",
    "    img = process(img)\n",
    "    img.save(image_out_dir + '/' + imgname)\n",
    "    if i % 1000 == 0:\n",
    "        print(f'Processed {i} images...')"
   ]
  },
  {
   "cell_type": "code",
   "execution_count": null,
   "id": "3fadb320",
   "metadata": {},
   "outputs": [],
   "source": []
  }
 ],
 "metadata": {
  "kernelspec": {
   "display_name": "Python [conda env:torch-ni-ny]",
   "language": "python",
   "name": "conda-env-torch-ni-ny-py"
  },
  "language_info": {
   "codemirror_mode": {
    "name": "ipython",
    "version": 3
   },
   "file_extension": ".py",
   "mimetype": "text/x-python",
   "name": "python",
   "nbconvert_exporter": "python",
   "pygments_lexer": "ipython3",
   "version": "3.9.7"
  }
 },
 "nbformat": 4,
 "nbformat_minor": 5
}
